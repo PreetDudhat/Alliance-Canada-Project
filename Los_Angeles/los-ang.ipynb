{
 "cells": [
  {
   "cell_type": "code",
   "execution_count": 122,
   "id": "c958eefd",
   "metadata": {
    "execution": {
     "iopub.execute_input": "2023-12-03T04:47:33.210646Z",
     "iopub.status.busy": "2023-12-03T04:47:33.210323Z",
     "iopub.status.idle": "2023-12-03T04:47:33.217937Z",
     "shell.execute_reply": "2023-12-03T04:47:33.216625Z",
     "shell.execute_reply.started": "2023-12-03T04:47:33.210622Z"
    }
   },
   "outputs": [],
   "source": [
    "import pandas as pd\n",
    "import numpy as np\n",
    "import math\n",
    "import matplotlib.pyplot as plt\n",
    "%matplotlib inline\n",
    "import warnings\n",
    "warnings.filterwarnings('ignore')\n",
    "from geopy.distance import great_circle  # For calculating distances\n",
    "import geopandas as gpd\n",
    "from shapely import wkt\n",
    "from shapely.wkt import loads"
   ]
  },
  {
   "cell_type": "code",
   "execution_count": 123,
   "id": "b9451a7b",
   "metadata": {
    "execution": {
     "iopub.execute_input": "2023-12-03T04:47:33.229371Z",
     "iopub.status.busy": "2023-12-03T04:47:33.228954Z",
     "iopub.status.idle": "2023-12-03T04:47:34.758672Z",
     "shell.execute_reply": "2023-12-03T04:47:34.757842Z",
     "shell.execute_reply.started": "2023-12-03T04:47:33.229323Z"
    }
   },
   "outputs": [
    {
     "data": {
      "text/html": [
       "<div>\n",
       "<style scoped>\n",
       "    .dataframe tbody tr th:only-of-type {\n",
       "        vertical-align: middle;\n",
       "    }\n",
       "\n",
       "    .dataframe tbody tr th {\n",
       "        vertical-align: top;\n",
       "    }\n",
       "\n",
       "    .dataframe thead th {\n",
       "        text-align: right;\n",
       "    }\n",
       "</style>\n",
       "<table border=\"1\" class=\"dataframe\">\n",
       "  <thead>\n",
       "    <tr style=\"text-align: right;\">\n",
       "      <th></th>\n",
       "      <th>DR Number</th>\n",
       "      <th>Date Reported</th>\n",
       "      <th>Date Occurred</th>\n",
       "      <th>Time Occurred</th>\n",
       "      <th>Area ID</th>\n",
       "      <th>Area Name</th>\n",
       "      <th>Reporting District</th>\n",
       "      <th>Crime Code</th>\n",
       "      <th>Crime Code Description</th>\n",
       "      <th>MO Codes</th>\n",
       "      <th>Victim Age</th>\n",
       "      <th>Victim Sex</th>\n",
       "      <th>Victim Descent</th>\n",
       "      <th>Premise Code</th>\n",
       "      <th>Premise Description</th>\n",
       "      <th>Address</th>\n",
       "      <th>Cross Street</th>\n",
       "      <th>Location</th>\n",
       "    </tr>\n",
       "  </thead>\n",
       "  <tbody>\n",
       "    <tr>\n",
       "      <th>0</th>\n",
       "      <td>190319651</td>\n",
       "      <td>08/24/2019</td>\n",
       "      <td>08/24/2019</td>\n",
       "      <td>450</td>\n",
       "      <td>3</td>\n",
       "      <td>Southwest</td>\n",
       "      <td>356</td>\n",
       "      <td>997</td>\n",
       "      <td>TRAFFIC COLLISION</td>\n",
       "      <td>3036 3004 3026 3101 4003</td>\n",
       "      <td>22.0</td>\n",
       "      <td>M</td>\n",
       "      <td>H</td>\n",
       "      <td>101.0</td>\n",
       "      <td>STREET</td>\n",
       "      <td>JEFFERSON                    BL</td>\n",
       "      <td>NORMANDIE                    AV</td>\n",
       "      <td>(34.0255, -118.3002)</td>\n",
       "    </tr>\n",
       "    <tr>\n",
       "      <th>1</th>\n",
       "      <td>190319680</td>\n",
       "      <td>08/30/2019</td>\n",
       "      <td>08/30/2019</td>\n",
       "      <td>2320</td>\n",
       "      <td>3</td>\n",
       "      <td>Southwest</td>\n",
       "      <td>355</td>\n",
       "      <td>997</td>\n",
       "      <td>TRAFFIC COLLISION</td>\n",
       "      <td>3037 3006 3028 3030 3039 3101 4003</td>\n",
       "      <td>30.0</td>\n",
       "      <td>F</td>\n",
       "      <td>H</td>\n",
       "      <td>101.0</td>\n",
       "      <td>STREET</td>\n",
       "      <td>JEFFERSON                    BL</td>\n",
       "      <td>W  WESTERN</td>\n",
       "      <td>(34.0256, -118.3089)</td>\n",
       "    </tr>\n",
       "    <tr>\n",
       "      <th>2</th>\n",
       "      <td>190413769</td>\n",
       "      <td>08/25/2019</td>\n",
       "      <td>08/25/2019</td>\n",
       "      <td>545</td>\n",
       "      <td>4</td>\n",
       "      <td>Hollenbeck</td>\n",
       "      <td>422</td>\n",
       "      <td>997</td>\n",
       "      <td>TRAFFIC COLLISION</td>\n",
       "      <td>3101 3401 3701 3006 3030</td>\n",
       "      <td>NaN</td>\n",
       "      <td>M</td>\n",
       "      <td>X</td>\n",
       "      <td>101.0</td>\n",
       "      <td>STREET</td>\n",
       "      <td>N  BROADWAY</td>\n",
       "      <td>W  EASTLAKE                     AV</td>\n",
       "      <td>(34.0738, -118.2078)</td>\n",
       "    </tr>\n",
       "    <tr>\n",
       "      <th>3</th>\n",
       "      <td>190127578</td>\n",
       "      <td>11/20/2019</td>\n",
       "      <td>11/20/2019</td>\n",
       "      <td>350</td>\n",
       "      <td>1</td>\n",
       "      <td>Central</td>\n",
       "      <td>128</td>\n",
       "      <td>997</td>\n",
       "      <td>TRAFFIC COLLISION</td>\n",
       "      <td>0605 3101 3401 3701 3011 3034</td>\n",
       "      <td>21.0</td>\n",
       "      <td>M</td>\n",
       "      <td>H</td>\n",
       "      <td>101.0</td>\n",
       "      <td>STREET</td>\n",
       "      <td>1ST</td>\n",
       "      <td>CENTRAL</td>\n",
       "      <td>(34.0492, -118.2391)</td>\n",
       "    </tr>\n",
       "    <tr>\n",
       "      <th>4</th>\n",
       "      <td>190319695</td>\n",
       "      <td>08/30/2019</td>\n",
       "      <td>08/30/2019</td>\n",
       "      <td>2100</td>\n",
       "      <td>3</td>\n",
       "      <td>Southwest</td>\n",
       "      <td>374</td>\n",
       "      <td>997</td>\n",
       "      <td>TRAFFIC COLLISION</td>\n",
       "      <td>0605 4025 3037 3004 3025 3101</td>\n",
       "      <td>49.0</td>\n",
       "      <td>M</td>\n",
       "      <td>B</td>\n",
       "      <td>101.0</td>\n",
       "      <td>STREET</td>\n",
       "      <td>MARTIN LUTHER KING JR</td>\n",
       "      <td>ARLINGTON                    AV</td>\n",
       "      <td>(34.0108, -118.3182)</td>\n",
       "    </tr>\n",
       "  </tbody>\n",
       "</table>\n",
       "</div>"
      ],
      "text/plain": [
       "   DR Number Date Reported Date Occurred  Time Occurred  Area ID   Area Name   \n",
       "0  190319651    08/24/2019    08/24/2019            450        3   Southwest  \\\n",
       "1  190319680    08/30/2019    08/30/2019           2320        3   Southwest   \n",
       "2  190413769    08/25/2019    08/25/2019            545        4  Hollenbeck   \n",
       "3  190127578    11/20/2019    11/20/2019            350        1     Central   \n",
       "4  190319695    08/30/2019    08/30/2019           2100        3   Southwest   \n",
       "\n",
       "   Reporting District  Crime Code Crime Code Description   \n",
       "0                 356         997      TRAFFIC COLLISION  \\\n",
       "1                 355         997      TRAFFIC COLLISION   \n",
       "2                 422         997      TRAFFIC COLLISION   \n",
       "3                 128         997      TRAFFIC COLLISION   \n",
       "4                 374         997      TRAFFIC COLLISION   \n",
       "\n",
       "                             MO Codes  Victim Age Victim Sex Victim Descent   \n",
       "0            3036 3004 3026 3101 4003        22.0          M              H  \\\n",
       "1  3037 3006 3028 3030 3039 3101 4003        30.0          F              H   \n",
       "2            3101 3401 3701 3006 3030         NaN          M              X   \n",
       "3       0605 3101 3401 3701 3011 3034        21.0          M              H   \n",
       "4       0605 4025 3037 3004 3025 3101        49.0          M              B   \n",
       "\n",
       "   Premise Code Premise Description                          Address   \n",
       "0         101.0              STREET  JEFFERSON                    BL  \\\n",
       "1         101.0              STREET  JEFFERSON                    BL   \n",
       "2         101.0              STREET                      N  BROADWAY   \n",
       "3         101.0              STREET                              1ST   \n",
       "4         101.0              STREET            MARTIN LUTHER KING JR   \n",
       "\n",
       "                         Cross Street              Location  \n",
       "0     NORMANDIE                    AV  (34.0255, -118.3002)  \n",
       "1                          W  WESTERN  (34.0256, -118.3089)  \n",
       "2  W  EASTLAKE                     AV  (34.0738, -118.2078)  \n",
       "3                             CENTRAL  (34.0492, -118.2391)  \n",
       "4     ARLINGTON                    AV  (34.0108, -118.3182)  "
      ]
     },
     "execution_count": 123,
     "metadata": {},
     "output_type": "execute_result"
    }
   ],
   "source": [
    "pd.set_option('display.max_columns', None)\n",
    "pd.set_option('display.max_rows', None)\n",
    "df = pd.read_csv(\"Los_Angeles.csv\")\n",
    "df.head()"
   ]
  },
  {
   "cell_type": "code",
   "execution_count": 124,
   "id": "ef4cf59c",
   "metadata": {
    "execution": {
     "iopub.execute_input": "2023-12-03T04:47:34.761940Z",
     "iopub.status.busy": "2023-12-03T04:47:34.761578Z",
     "iopub.status.idle": "2023-12-03T04:47:35.375332Z",
     "shell.execute_reply": "2023-12-03T04:47:35.373221Z",
     "shell.execute_reply.started": "2023-12-03T04:47:34.761911Z"
    }
   },
   "outputs": [
    {
     "name": "stdout",
     "output_type": "stream",
     "text": [
      "<class 'pandas.core.frame.DataFrame'>\n",
      "RangeIndex: 599780 entries, 0 to 599779\n",
      "Data columns (total 18 columns):\n",
      " #   Column                  Non-Null Count   Dtype \n",
      "---  ------                  --------------   ----- \n",
      " 0   DR Number               599780 non-null  Int64 \n",
      " 1   Date Reported           599780 non-null  string\n",
      " 2   Date Occurred           599780 non-null  string\n",
      " 3   Time Occurred           599780 non-null  Int64 \n",
      " 4   Area ID                 599780 non-null  Int64 \n",
      " 5   Area Name               599780 non-null  string\n",
      " 6   Reporting District      599780 non-null  Int64 \n",
      " 7   Crime Code              599780 non-null  Int64 \n",
      " 8   Crime Code Description  599780 non-null  string\n",
      " 9   MO Codes                512598 non-null  string\n",
      " 10  Victim Age              513934 non-null  Int64 \n",
      " 11  Victim Sex              589705 non-null  string\n",
      " 12  Victim Descent          588762 non-null  string\n",
      " 13  Premise Code            598821 non-null  Int64 \n",
      " 14  Premise Description     598820 non-null  string\n",
      " 15  Address                 599780 non-null  string\n",
      " 16  Cross Street            571425 non-null  string\n",
      " 17  Location                599780 non-null  string\n",
      "dtypes: Int64(7), string(11)\n",
      "memory usage: 86.4 MB\n"
     ]
    }
   ],
   "source": [
    "df = df.convert_dtypes()\n",
    "\n",
    "df.info()"
   ]
  },
  {
   "cell_type": "code",
   "execution_count": 125,
   "id": "81f17831",
   "metadata": {
    "execution": {
     "iopub.execute_input": "2023-12-03T04:47:35.377390Z",
     "iopub.status.busy": "2023-12-03T04:47:35.377117Z",
     "iopub.status.idle": "2023-12-03T04:47:35.585697Z",
     "shell.execute_reply": "2023-12-03T04:47:35.583969Z",
     "shell.execute_reply.started": "2023-12-03T04:47:35.377368Z"
    }
   },
   "outputs": [
    {
     "name": "stdout",
     "output_type": "stream",
     "text": [
      "                    Column  Null Count  Percentage Missing\n",
      "0                DR Number           0                0.00\n",
      "1            Date Reported           0                0.00\n",
      "2            Date Occurred           0                0.00\n",
      "3            Time Occurred           0                0.00\n",
      "4                  Area ID           0                0.00\n",
      "5                Area Name           0                0.00\n",
      "6       Reporting District           0                0.00\n",
      "7               Crime Code           0                0.00\n",
      "8   Crime Code Description           0                0.00\n",
      "9                 MO Codes       87182               14.54\n",
      "10              Victim Age       85846               14.31\n",
      "11              Victim Sex       10075                1.68\n",
      "12          Victim Descent       11018                1.84\n",
      "13            Premise Code         959                0.16\n",
      "14     Premise Description         960                0.16\n",
      "15                 Address           0                0.00\n",
      "16            Cross Street       28355                4.73\n",
      "17                Location           0                0.00\n"
     ]
    }
   ],
   "source": [
    "import pandas as pd\n",
    "\n",
    "# Create a DataFrame with the column names and null counts\n",
    "null_counts = pd.DataFrame({\n",
    "    'Column': df.columns,\n",
    "    'Null Count': [df[column].isnull().sum() for column in df.columns]\n",
    "})\n",
    "\n",
    "# Calculate the percentage of missing values\n",
    "null_counts['Percentage Missing'] = null_counts['Null Count'] / df.shape[0] * 100\n",
    "null_counts['Percentage Missing'] = null_counts['Percentage Missing'].round(2)\n",
    "print(null_counts)\n"
   ]
  },
  {
   "cell_type": "code",
   "execution_count": 126,
   "id": "ae3aa6de",
   "metadata": {
    "execution": {
     "iopub.execute_input": "2023-12-03T04:47:35.589921Z",
     "iopub.status.busy": "2023-12-03T04:47:35.589051Z",
     "iopub.status.idle": "2023-12-03T04:47:35.599023Z",
     "shell.execute_reply": "2023-12-03T04:47:35.597295Z",
     "shell.execute_reply.started": "2023-12-03T04:47:35.589885Z"
    }
   },
   "outputs": [
    {
     "data": {
      "text/plain": [
       "0     450\n",
       "1    2320\n",
       "2     545\n",
       "3     350\n",
       "4    2100\n",
       "Name: Time Occurred, dtype: Int64"
      ]
     },
     "execution_count": 126,
     "metadata": {},
     "output_type": "execute_result"
    }
   ],
   "source": [
    "df['Time Occurred'].head()"
   ]
  },
  {
   "cell_type": "code",
   "execution_count": 127,
   "id": "accfef94",
   "metadata": {
    "execution": {
     "iopub.execute_input": "2023-12-03T04:47:35.600953Z",
     "iopub.status.busy": "2023-12-03T04:47:35.600582Z",
     "iopub.status.idle": "2023-12-03T04:47:35.616615Z",
     "shell.execute_reply": "2023-12-03T04:47:35.615375Z",
     "shell.execute_reply.started": "2023-12-03T04:47:35.600919Z"
    }
   },
   "outputs": [
    {
     "data": {
      "text/plain": [
       "<IntegerArray>\n",
       "[  22,   30, <NA>,   21,   49,   60,   73,   39,   48,   68,   63,   35,   61,\n",
       "   37,   55,   62,   72,   41,   76,   40,   38,   18,   24,   54,   52,   28,\n",
       "   53,   34,   32,   65,   33,   25,   29,   50,   26,   31,   67,   27,   20,\n",
       "   66,   46,   43,   19,   58,   57,   42,   84,   99,   23,   36,   69,   51,\n",
       "   88,   90,   44,   17,   47,   77,   16,   64,   56,   59,   86,   45,   75,\n",
       "   74,   71,   70,   83,   15,   85,   79,   13,   14,   12,   87,   89,   80,\n",
       "   82,   78,   11,   81,   91,   10,   96,   95,   92,   93,   94,   98,   97]\n",
       "Length: 91, dtype: Int64"
      ]
     },
     "execution_count": 127,
     "metadata": {},
     "output_type": "execute_result"
    }
   ],
   "source": [
    "df['Victim Age'].unique()"
   ]
  },
  {
   "cell_type": "code",
   "execution_count": 128,
   "id": "2820abb8",
   "metadata": {
    "execution": {
     "iopub.execute_input": "2023-12-03T04:47:35.620140Z",
     "iopub.status.busy": "2023-12-03T04:47:35.619810Z",
     "iopub.status.idle": "2023-12-03T04:47:35.644275Z",
     "shell.execute_reply": "2023-12-03T04:47:35.643614Z",
     "shell.execute_reply.started": "2023-12-03T04:47:35.620112Z"
    }
   },
   "outputs": [],
   "source": [
    "median_age = df['Victim Age'].median()\n",
    "df['Victim Age'].fillna(math.ceil(median_age), inplace=True)\n",
    "df['Victim Age'] = df['Victim Age'].astype('Int64')"
   ]
  },
  {
   "cell_type": "code",
   "execution_count": null,
   "id": "39028f18",
   "metadata": {},
   "outputs": [],
   "source": []
  },
  {
   "cell_type": "code",
   "execution_count": 129,
   "id": "2180f534",
   "metadata": {
    "execution": {
     "iopub.execute_input": "2023-12-03T04:47:35.646037Z",
     "iopub.status.busy": "2023-12-03T04:47:35.645498Z",
     "iopub.status.idle": "2023-12-03T04:47:35.672109Z",
     "shell.execute_reply": "2023-12-03T04:47:35.671115Z",
     "shell.execute_reply.started": "2023-12-03T04:47:35.646007Z"
    },
    "scrolled": true
   },
   "outputs": [
    {
     "data": {
      "text/plain": [
       "<StringArray>\n",
       "['M', 'F', 'X', <NA>, 'H', 'N', '-']\n",
       "Length: 7, dtype: string"
      ]
     },
     "execution_count": 129,
     "metadata": {},
     "output_type": "execute_result"
    }
   ],
   "source": [
    "df['Victim Sex'].unique()"
   ]
  },
  {
   "cell_type": "code",
   "execution_count": 130,
   "id": "a9273cbf",
   "metadata": {
    "execution": {
     "iopub.execute_input": "2023-12-03T04:47:35.675165Z",
     "iopub.status.busy": "2023-12-03T04:47:35.673179Z",
     "iopub.status.idle": "2023-12-03T04:47:36.213432Z",
     "shell.execute_reply": "2023-12-03T04:47:36.211479Z",
     "shell.execute_reply.started": "2023-12-03T04:47:35.674990Z"
    }
   },
   "outputs": [],
   "source": [
    "# Assuming 'df' is your dataframe\n",
    "valid_sex_values = ['M', 'F']\n",
    "df['Victim Sex'] = df['Victim Sex'].apply(lambda x: x if pd.notna(x) and x in valid_sex_values else None)\n",
    "mode_sex = df['Victim Sex'].mode().iloc[0]\n",
    "df['Victim Sex'].fillna(mode_sex, inplace=True)\n"
   ]
  },
  {
   "cell_type": "code",
   "execution_count": 131,
   "id": "ca8c7de1",
   "metadata": {
    "execution": {
     "iopub.execute_input": "2023-12-03T04:47:36.215624Z",
     "iopub.status.busy": "2023-12-03T04:47:36.215164Z",
     "iopub.status.idle": "2023-12-03T04:47:36.467843Z",
     "shell.execute_reply": "2023-12-03T04:47:36.466340Z",
     "shell.execute_reply.started": "2023-12-03T04:47:36.215589Z"
    }
   },
   "outputs": [],
   "source": [
    "df.dropna(subset=['Premise Code', 'Premise Description'], inplace=True)"
   ]
  },
  {
   "cell_type": "code",
   "execution_count": 132,
   "id": "18c7ffd1",
   "metadata": {
    "execution": {
     "iopub.execute_input": "2023-12-03T04:47:36.472933Z",
     "iopub.status.busy": "2023-12-03T04:47:36.472642Z",
     "iopub.status.idle": "2023-12-03T04:47:36.598514Z",
     "shell.execute_reply": "2023-12-03T04:47:36.597120Z",
     "shell.execute_reply.started": "2023-12-03T04:47:36.472910Z"
    }
   },
   "outputs": [],
   "source": [
    "df.drop(columns=[\"Crime Code Description\", \"Crime Code\", \"Reporting District\", \"Victim Descent\", \"Cross Street\"], inplace=True)"
   ]
  },
  {
   "cell_type": "code",
   "execution_count": 133,
   "id": "fef99bb0",
   "metadata": {
    "execution": {
     "iopub.execute_input": "2023-12-03T04:47:36.600671Z",
     "iopub.status.busy": "2023-12-03T04:47:36.600269Z",
     "iopub.status.idle": "2023-12-03T04:47:37.010284Z",
     "shell.execute_reply": "2023-12-03T04:47:37.008739Z",
     "shell.execute_reply.started": "2023-12-03T04:47:36.600642Z"
    }
   },
   "outputs": [
    {
     "name": "stdout",
     "output_type": "stream",
     "text": [
      "<class 'pandas.core.frame.DataFrame'>\n",
      "Index: 598820 entries, 0 to 599779\n",
      "Data columns (total 13 columns):\n",
      " #   Column               Non-Null Count   Dtype \n",
      "---  ------               --------------   ----- \n",
      " 0   DR Number            598820 non-null  Int64 \n",
      " 1   Date Reported        598820 non-null  string\n",
      " 2   Date Occurred        598820 non-null  string\n",
      " 3   Time Occurred        598820 non-null  Int64 \n",
      " 4   Area ID              598820 non-null  Int64 \n",
      " 5   Area Name            598820 non-null  string\n",
      " 6   MO Codes             511690 non-null  string\n",
      " 7   Victim Age           598820 non-null  Int64 \n",
      " 8   Victim Sex           598820 non-null  string\n",
      " 9   Premise Code         598820 non-null  Int64 \n",
      " 10  Premise Description  598820 non-null  string\n",
      " 11  Address              598820 non-null  string\n",
      " 12  Location             598820 non-null  string\n",
      "dtypes: Int64(5), string(8)\n",
      "memory usage: 66.8 MB\n"
     ]
    }
   ],
   "source": [
    "df = df.convert_dtypes()\n",
    "df.info()"
   ]
  },
  {
   "cell_type": "code",
   "execution_count": 134,
   "id": "44efac1a",
   "metadata": {
    "execution": {
     "iopub.execute_input": "2023-12-03T04:47:37.012080Z",
     "iopub.status.busy": "2023-12-03T04:47:37.011757Z",
     "iopub.status.idle": "2023-12-03T04:47:37.072235Z",
     "shell.execute_reply": "2023-12-03T04:47:37.070503Z",
     "shell.execute_reply.started": "2023-12-03T04:47:37.012057Z"
    }
   },
   "outputs": [],
   "source": [
    "df['MO Codes'] = df['MO Codes'].fillna('0605')"
   ]
  },
  {
   "cell_type": "code",
   "execution_count": 135,
   "id": "ab71a627",
   "metadata": {
    "execution": {
     "iopub.execute_input": "2023-12-03T04:47:37.074132Z",
     "iopub.status.busy": "2023-12-03T04:47:37.073801Z",
     "iopub.status.idle": "2023-12-03T04:47:40.447379Z",
     "shell.execute_reply": "2023-12-03T04:47:40.445985Z",
     "shell.execute_reply.started": "2023-12-03T04:47:37.074105Z"
    }
   },
   "outputs": [],
   "source": [
    "def get_severity_and_factors(mo_codes):\n",
    "    mo_list = mo_codes.split()\n",
    "\n",
    "    # Severity mapping\n",
    "    if any(code in mo_list for code in ['3024', '3027']):\n",
    "        severity = 3\n",
    "    elif any(code in mo_list for code in ['3025', '3026']):\n",
    "        severity = 2\n",
    "    elif '3028' in mo_list:\n",
    "        severity = 1\n",
    "    else:\n",
    "        severity = 1  # Default value\n",
    "    \n",
    "    # Factors mapping\n",
    "    if any(code in mo_list for code in ['3029', '3030', '3038', '3039', '3040']):\n",
    "        factors = 'Road Rage'\n",
    "    elif '3201' in mo_list:\n",
    "        factors = 'Weather/Road'\n",
    "    else:\n",
    "        factors = 'Traffic Accident'  # Default value\n",
    "    \n",
    "    return severity, factors\n",
    "\n",
    "# Apply the function to your dataset\n",
    "df['Severity'], df['Factors'] = zip(*df['MO Codes'].apply(get_severity_and_factors))"
   ]
  },
  {
   "cell_type": "code",
   "execution_count": 136,
   "id": "36c1d4d7",
   "metadata": {
    "execution": {
     "iopub.execute_input": "2023-12-03T04:47:40.449770Z",
     "iopub.status.busy": "2023-12-03T04:47:40.449319Z",
     "iopub.status.idle": "2023-12-03T04:47:40.471202Z",
     "shell.execute_reply": "2023-12-03T04:47:40.470161Z",
     "shell.execute_reply.started": "2023-12-03T04:47:40.449730Z"
    }
   },
   "outputs": [
    {
     "data": {
      "text/html": [
       "<div>\n",
       "<style scoped>\n",
       "    .dataframe tbody tr th:only-of-type {\n",
       "        vertical-align: middle;\n",
       "    }\n",
       "\n",
       "    .dataframe tbody tr th {\n",
       "        vertical-align: top;\n",
       "    }\n",
       "\n",
       "    .dataframe thead th {\n",
       "        text-align: right;\n",
       "    }\n",
       "</style>\n",
       "<table border=\"1\" class=\"dataframe\">\n",
       "  <thead>\n",
       "    <tr style=\"text-align: right;\">\n",
       "      <th></th>\n",
       "      <th>DR Number</th>\n",
       "      <th>Date Reported</th>\n",
       "      <th>Date Occurred</th>\n",
       "      <th>Time Occurred</th>\n",
       "      <th>Area ID</th>\n",
       "      <th>Area Name</th>\n",
       "      <th>MO Codes</th>\n",
       "      <th>Victim Age</th>\n",
       "      <th>Victim Sex</th>\n",
       "      <th>Premise Code</th>\n",
       "      <th>Premise Description</th>\n",
       "      <th>Address</th>\n",
       "      <th>Location</th>\n",
       "      <th>Severity</th>\n",
       "      <th>Factors</th>\n",
       "    </tr>\n",
       "  </thead>\n",
       "  <tbody>\n",
       "    <tr>\n",
       "      <th>0</th>\n",
       "      <td>190319651</td>\n",
       "      <td>08/24/2019</td>\n",
       "      <td>08/24/2019</td>\n",
       "      <td>450</td>\n",
       "      <td>3</td>\n",
       "      <td>Southwest</td>\n",
       "      <td>3036 3004 3026 3101 4003</td>\n",
       "      <td>22</td>\n",
       "      <td>M</td>\n",
       "      <td>101</td>\n",
       "      <td>STREET</td>\n",
       "      <td>JEFFERSON                    BL</td>\n",
       "      <td>(34.0255, -118.3002)</td>\n",
       "      <td>2</td>\n",
       "      <td>Traffic Accident</td>\n",
       "    </tr>\n",
       "    <tr>\n",
       "      <th>1</th>\n",
       "      <td>190319680</td>\n",
       "      <td>08/30/2019</td>\n",
       "      <td>08/30/2019</td>\n",
       "      <td>2320</td>\n",
       "      <td>3</td>\n",
       "      <td>Southwest</td>\n",
       "      <td>3037 3006 3028 3030 3039 3101 4003</td>\n",
       "      <td>30</td>\n",
       "      <td>F</td>\n",
       "      <td>101</td>\n",
       "      <td>STREET</td>\n",
       "      <td>JEFFERSON                    BL</td>\n",
       "      <td>(34.0256, -118.3089)</td>\n",
       "      <td>1</td>\n",
       "      <td>Road Rage</td>\n",
       "    </tr>\n",
       "    <tr>\n",
       "      <th>2</th>\n",
       "      <td>190413769</td>\n",
       "      <td>08/25/2019</td>\n",
       "      <td>08/25/2019</td>\n",
       "      <td>545</td>\n",
       "      <td>4</td>\n",
       "      <td>Hollenbeck</td>\n",
       "      <td>3101 3401 3701 3006 3030</td>\n",
       "      <td>38</td>\n",
       "      <td>M</td>\n",
       "      <td>101</td>\n",
       "      <td>STREET</td>\n",
       "      <td>N  BROADWAY</td>\n",
       "      <td>(34.0738, -118.2078)</td>\n",
       "      <td>1</td>\n",
       "      <td>Road Rage</td>\n",
       "    </tr>\n",
       "    <tr>\n",
       "      <th>3</th>\n",
       "      <td>190127578</td>\n",
       "      <td>11/20/2019</td>\n",
       "      <td>11/20/2019</td>\n",
       "      <td>350</td>\n",
       "      <td>1</td>\n",
       "      <td>Central</td>\n",
       "      <td>0605 3101 3401 3701 3011 3034</td>\n",
       "      <td>21</td>\n",
       "      <td>M</td>\n",
       "      <td>101</td>\n",
       "      <td>STREET</td>\n",
       "      <td>1ST</td>\n",
       "      <td>(34.0492, -118.2391)</td>\n",
       "      <td>1</td>\n",
       "      <td>Traffic Accident</td>\n",
       "    </tr>\n",
       "    <tr>\n",
       "      <th>4</th>\n",
       "      <td>190319695</td>\n",
       "      <td>08/30/2019</td>\n",
       "      <td>08/30/2019</td>\n",
       "      <td>2100</td>\n",
       "      <td>3</td>\n",
       "      <td>Southwest</td>\n",
       "      <td>0605 4025 3037 3004 3025 3101</td>\n",
       "      <td>49</td>\n",
       "      <td>M</td>\n",
       "      <td>101</td>\n",
       "      <td>STREET</td>\n",
       "      <td>MARTIN LUTHER KING JR</td>\n",
       "      <td>(34.0108, -118.3182)</td>\n",
       "      <td>2</td>\n",
       "      <td>Traffic Accident</td>\n",
       "    </tr>\n",
       "  </tbody>\n",
       "</table>\n",
       "</div>"
      ],
      "text/plain": [
       "   DR Number Date Reported Date Occurred  Time Occurred  Area ID   Area Name   \n",
       "0  190319651    08/24/2019    08/24/2019            450        3   Southwest  \\\n",
       "1  190319680    08/30/2019    08/30/2019           2320        3   Southwest   \n",
       "2  190413769    08/25/2019    08/25/2019            545        4  Hollenbeck   \n",
       "3  190127578    11/20/2019    11/20/2019            350        1     Central   \n",
       "4  190319695    08/30/2019    08/30/2019           2100        3   Southwest   \n",
       "\n",
       "                             MO Codes  Victim Age Victim Sex  Premise Code   \n",
       "0            3036 3004 3026 3101 4003          22          M           101  \\\n",
       "1  3037 3006 3028 3030 3039 3101 4003          30          F           101   \n",
       "2            3101 3401 3701 3006 3030          38          M           101   \n",
       "3       0605 3101 3401 3701 3011 3034          21          M           101   \n",
       "4       0605 4025 3037 3004 3025 3101          49          M           101   \n",
       "\n",
       "  Premise Description                          Address              Location   \n",
       "0              STREET  JEFFERSON                    BL  (34.0255, -118.3002)  \\\n",
       "1              STREET  JEFFERSON                    BL  (34.0256, -118.3089)   \n",
       "2              STREET                      N  BROADWAY  (34.0738, -118.2078)   \n",
       "3              STREET                              1ST  (34.0492, -118.2391)   \n",
       "4              STREET            MARTIN LUTHER KING JR  (34.0108, -118.3182)   \n",
       "\n",
       "   Severity           Factors  \n",
       "0         2  Traffic Accident  \n",
       "1         1         Road Rage  \n",
       "2         1         Road Rage  \n",
       "3         1  Traffic Accident  \n",
       "4         2  Traffic Accident  "
      ]
     },
     "execution_count": 136,
     "metadata": {},
     "output_type": "execute_result"
    }
   ],
   "source": [
    "df.head()"
   ]
  },
  {
   "cell_type": "code",
   "execution_count": 137,
   "id": "d5dd0a91",
   "metadata": {
    "execution": {
     "iopub.execute_input": "2023-12-03T04:47:40.472702Z",
     "iopub.status.busy": "2023-12-03T04:47:40.472397Z",
     "iopub.status.idle": "2023-12-03T04:47:40.503683Z",
     "shell.execute_reply": "2023-12-03T04:47:40.502036Z",
     "shell.execute_reply.started": "2023-12-03T04:47:40.472678Z"
    }
   },
   "outputs": [
    {
     "data": {
      "text/plain": [
       "Factors\n",
       "Traffic Accident    343656\n",
       "Road Rage           255159\n",
       "Weather/Road             5\n",
       "Name: count, dtype: int64"
      ]
     },
     "execution_count": 137,
     "metadata": {},
     "output_type": "execute_result"
    }
   ],
   "source": [
    "df['Factors'].value_counts()\n"
   ]
  },
  {
   "cell_type": "code",
   "execution_count": 138,
   "id": "c58839b4",
   "metadata": {
    "execution": {
     "iopub.execute_input": "2023-12-03T04:47:40.505791Z",
     "iopub.status.busy": "2023-12-03T04:47:40.505370Z",
     "iopub.status.idle": "2023-12-03T04:47:40.524576Z",
     "shell.execute_reply": "2023-12-03T04:47:40.523165Z",
     "shell.execute_reply.started": "2023-12-03T04:47:40.505750Z"
    }
   },
   "outputs": [
    {
     "data": {
      "text/plain": [
       "Severity\n",
       "1    373509\n",
       "2    208114\n",
       "3     17197\n",
       "Name: count, dtype: int64"
      ]
     },
     "execution_count": 138,
     "metadata": {},
     "output_type": "execute_result"
    }
   ],
   "source": [
    "df['Severity'].value_counts()"
   ]
  },
  {
   "cell_type": "code",
   "execution_count": 139,
   "id": "c448f6c1",
   "metadata": {
    "execution": {
     "iopub.execute_input": "2023-12-03T04:47:40.527655Z",
     "iopub.status.busy": "2023-12-03T04:47:40.527262Z",
     "iopub.status.idle": "2023-12-03T04:47:40.635460Z",
     "shell.execute_reply": "2023-12-03T04:47:40.633675Z",
     "shell.execute_reply.started": "2023-12-03T04:47:40.527620Z"
    }
   },
   "outputs": [],
   "source": [
    "df.drop(columns=['MO Codes'], inplace=True)"
   ]
  },
  {
   "cell_type": "code",
   "execution_count": 140,
   "id": "36930ad9",
   "metadata": {
    "execution": {
     "iopub.execute_input": "2023-12-03T04:47:40.637955Z",
     "iopub.status.busy": "2023-12-03T04:47:40.637522Z",
     "iopub.status.idle": "2023-12-03T04:47:41.026350Z",
     "shell.execute_reply": "2023-12-03T04:47:41.025049Z",
     "shell.execute_reply.started": "2023-12-03T04:47:40.637918Z"
    }
   },
   "outputs": [
    {
     "name": "stdout",
     "output_type": "stream",
     "text": [
      "<class 'pandas.core.frame.DataFrame'>\n",
      "Index: 598820 entries, 0 to 599779\n",
      "Data columns (total 14 columns):\n",
      " #   Column               Non-Null Count   Dtype \n",
      "---  ------               --------------   ----- \n",
      " 0   DR Number            598820 non-null  Int64 \n",
      " 1   Date Reported        598820 non-null  string\n",
      " 2   Date Occurred        598820 non-null  string\n",
      " 3   Time Occurred        598820 non-null  Int64 \n",
      " 4   Area ID              598820 non-null  Int64 \n",
      " 5   Area Name            598820 non-null  string\n",
      " 6   Victim Age           598820 non-null  Int64 \n",
      " 7   Victim Sex           598820 non-null  string\n",
      " 8   Premise Code         598820 non-null  Int64 \n",
      " 9   Premise Description  598820 non-null  string\n",
      " 10  Address              598820 non-null  string\n",
      " 11  Location             598820 non-null  string\n",
      " 12  Severity             598820 non-null  Int64 \n",
      " 13  Factors              598820 non-null  string\n",
      "dtypes: Int64(6), string(8)\n",
      "memory usage: 72.0 MB\n"
     ]
    }
   ],
   "source": [
    "df = df.convert_dtypes()\n",
    "df.info()"
   ]
  },
  {
   "cell_type": "code",
   "execution_count": 141,
   "id": "3035a783",
   "metadata": {
    "execution": {
     "iopub.execute_input": "2023-12-03T04:47:41.028412Z",
     "iopub.status.busy": "2023-12-03T04:47:41.028050Z",
     "iopub.status.idle": "2023-12-03T04:47:43.347273Z",
     "shell.execute_reply": "2023-12-03T04:47:43.345523Z",
     "shell.execute_reply.started": "2023-12-03T04:47:41.028383Z"
    }
   },
   "outputs": [],
   "source": [
    "# Use regular expression to extract latitude and longitude\n",
    "df[['Latitude', 'Longitude']] = df['Location'].str.extract(r'\\(([^,]+),\\s*([^)]+)\\)')\n",
    "\n",
    "# Convert the data type of the new columns to numeric\n",
    "df[['Latitude', 'Longitude']] = df[['Latitude', 'Longitude']].apply(pd.to_numeric)\n"
   ]
  },
  {
   "cell_type": "code",
   "execution_count": 142,
   "id": "6e50c01d",
   "metadata": {
    "execution": {
     "iopub.execute_input": "2023-12-03T04:47:43.349240Z",
     "iopub.status.busy": "2023-12-03T04:47:43.348891Z",
     "iopub.status.idle": "2023-12-03T04:47:43.357010Z",
     "shell.execute_reply": "2023-12-03T04:47:43.355440Z",
     "shell.execute_reply.started": "2023-12-03T04:47:43.349206Z"
    }
   },
   "outputs": [
    {
     "name": "stdout",
     "output_type": "stream",
     "text": [
      "218    1300\n",
      "219    1230\n",
      "Name: Time Occurred, dtype: Int64\n"
     ]
    }
   ],
   "source": [
    "print(df['Time Occurred'].iloc[218:220])\n"
   ]
  },
  {
   "cell_type": "code",
   "execution_count": 143,
   "id": "45316176",
   "metadata": {
    "execution": {
     "iopub.execute_input": "2023-12-03T04:47:43.359880Z",
     "iopub.status.busy": "2023-12-03T04:47:43.358639Z",
     "iopub.status.idle": "2023-12-03T04:47:44.398706Z",
     "shell.execute_reply": "2023-12-03T04:47:44.397537Z",
     "shell.execute_reply.started": "2023-12-03T04:47:43.359811Z"
    }
   },
   "outputs": [],
   "source": [
    "df['Date Occurred'] = pd.to_datetime(df['Date Occurred'])\n",
    "# Convert the 'Time Occurred' column to a time format\n",
    "df['Time Occurred'] = pd.to_datetime(df['Time Occurred'].astype(str).str.zfill(4), format='%H%M', errors='coerce').dt.time\n",
    "\n",
    "df['Date Reported'] = pd.to_datetime(df['Date Reported'])\n"
   ]
  },
  {
   "cell_type": "code",
   "execution_count": null,
   "id": "99b1dca1",
   "metadata": {},
   "outputs": [],
   "source": []
  },
  {
   "cell_type": "code",
   "execution_count": 144,
   "id": "3f1ea0db",
   "metadata": {
    "execution": {
     "iopub.execute_input": "2023-12-03T04:47:44.400692Z",
     "iopub.status.busy": "2023-12-03T04:47:44.400127Z",
     "iopub.status.idle": "2023-12-03T04:47:44.416943Z",
     "shell.execute_reply": "2023-12-03T04:47:44.415772Z",
     "shell.execute_reply.started": "2023-12-03T04:47:44.400662Z"
    }
   },
   "outputs": [
    {
     "name": "stdout",
     "output_type": "stream",
     "text": [
      "<class 'datetime.time'>\n"
     ]
    }
   ],
   "source": [
    "print(type(df['Time Occurred'][0]))\n"
   ]
  },
  {
   "cell_type": "code",
   "execution_count": 145,
   "id": "1b404d08",
   "metadata": {
    "execution": {
     "iopub.execute_input": "2023-12-03T04:47:44.419123Z",
     "iopub.status.busy": "2023-12-03T04:47:44.418692Z",
     "iopub.status.idle": "2023-12-03T04:47:44.620580Z",
     "shell.execute_reply": "2023-12-03T04:47:44.619012Z",
     "shell.execute_reply.started": "2023-12-03T04:47:44.419083Z"
    }
   },
   "outputs": [],
   "source": [
    "df['Day of Week'] = df['Date Occurred'].dt.day_name()\n",
    "df['Month'] = df['Date Occurred'].dt.month\n",
    "df['Year'] = df['Date Occurred'].dt.year"
   ]
  },
  {
   "cell_type": "code",
   "execution_count": 146,
   "id": "225a1c36",
   "metadata": {
    "execution": {
     "iopub.execute_input": "2023-12-03T04:47:44.622308Z",
     "iopub.status.busy": "2023-12-03T04:47:44.621973Z",
     "iopub.status.idle": "2023-12-03T04:47:45.024327Z",
     "shell.execute_reply": "2023-12-03T04:47:45.022710Z",
     "shell.execute_reply.started": "2023-12-03T04:47:44.622279Z"
    }
   },
   "outputs": [
    {
     "name": "stdout",
     "output_type": "stream",
     "text": [
      "<class 'pandas.core.frame.DataFrame'>\n",
      "Index: 598820 entries, 0 to 599779\n",
      "Data columns (total 19 columns):\n",
      " #   Column               Non-Null Count   Dtype         \n",
      "---  ------               --------------   -----         \n",
      " 0   DR Number            598820 non-null  Int64         \n",
      " 1   Date Reported        598820 non-null  datetime64[ns]\n",
      " 2   Date Occurred        598820 non-null  datetime64[ns]\n",
      " 3   Time Occurred        598820 non-null  object        \n",
      " 4   Area ID              598820 non-null  Int64         \n",
      " 5   Area Name            598820 non-null  string        \n",
      " 6   Victim Age           598820 non-null  Int64         \n",
      " 7   Victim Sex           598820 non-null  string        \n",
      " 8   Premise Code         598820 non-null  Int64         \n",
      " 9   Premise Description  598820 non-null  string        \n",
      " 10  Address              598820 non-null  string        \n",
      " 11  Location             598820 non-null  string        \n",
      " 12  Severity             598820 non-null  Int64         \n",
      " 13  Factors              598820 non-null  string        \n",
      " 14  Latitude             598820 non-null  Float64       \n",
      " 15  Longitude            598820 non-null  Float64       \n",
      " 16  Day of Week          598820 non-null  string        \n",
      " 17  Month                598820 non-null  Int32         \n",
      " 18  Year                 598820 non-null  Int32         \n",
      "dtypes: Float64(2), Int32(2), Int64(5), datetime64[ns](2), object(1), string(7)\n",
      "memory usage: 108.1+ MB\n"
     ]
    }
   ],
   "source": [
    "df = df.convert_dtypes()\n",
    "\n",
    "df.info()"
   ]
  },
  {
   "cell_type": "code",
   "execution_count": 147,
   "id": "eabd0497",
   "metadata": {
    "execution": {
     "iopub.execute_input": "2023-12-03T04:47:45.026940Z",
     "iopub.status.busy": "2023-12-03T04:47:45.026311Z",
     "iopub.status.idle": "2023-12-03T04:47:45.150902Z",
     "shell.execute_reply": "2023-12-03T04:47:45.149421Z",
     "shell.execute_reply.started": "2023-12-03T04:47:45.026905Z"
    }
   },
   "outputs": [],
   "source": [
    "df1 = df.copy()"
   ]
  },
  {
   "cell_type": "code",
   "execution_count": 148,
   "id": "7fe8e4e0",
   "metadata": {
    "execution": {
     "iopub.execute_input": "2023-12-03T04:47:45.153006Z",
     "iopub.status.busy": "2023-12-03T04:47:45.152400Z",
     "iopub.status.idle": "2023-12-03T04:47:45.173433Z",
     "shell.execute_reply": "2023-12-03T04:47:45.171804Z",
     "shell.execute_reply.started": "2023-12-03T04:47:45.152974Z"
    }
   },
   "outputs": [
    {
     "data": {
      "text/html": [
       "<div>\n",
       "<style scoped>\n",
       "    .dataframe tbody tr th:only-of-type {\n",
       "        vertical-align: middle;\n",
       "    }\n",
       "\n",
       "    .dataframe tbody tr th {\n",
       "        vertical-align: top;\n",
       "    }\n",
       "\n",
       "    .dataframe thead th {\n",
       "        text-align: right;\n",
       "    }\n",
       "</style>\n",
       "<table border=\"1\" class=\"dataframe\">\n",
       "  <thead>\n",
       "    <tr style=\"text-align: right;\">\n",
       "      <th></th>\n",
       "      <th>DR Number</th>\n",
       "      <th>Date Reported</th>\n",
       "      <th>Date Occurred</th>\n",
       "      <th>Time Occurred</th>\n",
       "      <th>Area ID</th>\n",
       "      <th>Area Name</th>\n",
       "      <th>Victim Age</th>\n",
       "      <th>Victim Sex</th>\n",
       "      <th>Premise Code</th>\n",
       "      <th>Premise Description</th>\n",
       "      <th>Address</th>\n",
       "      <th>Location</th>\n",
       "      <th>Severity</th>\n",
       "      <th>Factors</th>\n",
       "      <th>Latitude</th>\n",
       "      <th>Longitude</th>\n",
       "      <th>Day of Week</th>\n",
       "      <th>Month</th>\n",
       "      <th>Year</th>\n",
       "    </tr>\n",
       "  </thead>\n",
       "  <tbody>\n",
       "    <tr>\n",
       "      <th>0</th>\n",
       "      <td>190319651</td>\n",
       "      <td>2019-08-24</td>\n",
       "      <td>2019-08-24</td>\n",
       "      <td>04:50:00</td>\n",
       "      <td>3</td>\n",
       "      <td>Southwest</td>\n",
       "      <td>22</td>\n",
       "      <td>M</td>\n",
       "      <td>101</td>\n",
       "      <td>STREET</td>\n",
       "      <td>JEFFERSON                    BL</td>\n",
       "      <td>(34.0255, -118.3002)</td>\n",
       "      <td>2</td>\n",
       "      <td>Traffic Accident</td>\n",
       "      <td>34.0255</td>\n",
       "      <td>-118.3002</td>\n",
       "      <td>Saturday</td>\n",
       "      <td>8</td>\n",
       "      <td>2019</td>\n",
       "    </tr>\n",
       "    <tr>\n",
       "      <th>1</th>\n",
       "      <td>190319680</td>\n",
       "      <td>2019-08-30</td>\n",
       "      <td>2019-08-30</td>\n",
       "      <td>23:20:00</td>\n",
       "      <td>3</td>\n",
       "      <td>Southwest</td>\n",
       "      <td>30</td>\n",
       "      <td>F</td>\n",
       "      <td>101</td>\n",
       "      <td>STREET</td>\n",
       "      <td>JEFFERSON                    BL</td>\n",
       "      <td>(34.0256, -118.3089)</td>\n",
       "      <td>1</td>\n",
       "      <td>Road Rage</td>\n",
       "      <td>34.0256</td>\n",
       "      <td>-118.3089</td>\n",
       "      <td>Friday</td>\n",
       "      <td>8</td>\n",
       "      <td>2019</td>\n",
       "    </tr>\n",
       "    <tr>\n",
       "      <th>2</th>\n",
       "      <td>190413769</td>\n",
       "      <td>2019-08-25</td>\n",
       "      <td>2019-08-25</td>\n",
       "      <td>05:45:00</td>\n",
       "      <td>4</td>\n",
       "      <td>Hollenbeck</td>\n",
       "      <td>38</td>\n",
       "      <td>M</td>\n",
       "      <td>101</td>\n",
       "      <td>STREET</td>\n",
       "      <td>N  BROADWAY</td>\n",
       "      <td>(34.0738, -118.2078)</td>\n",
       "      <td>1</td>\n",
       "      <td>Road Rage</td>\n",
       "      <td>34.0738</td>\n",
       "      <td>-118.2078</td>\n",
       "      <td>Sunday</td>\n",
       "      <td>8</td>\n",
       "      <td>2019</td>\n",
       "    </tr>\n",
       "    <tr>\n",
       "      <th>3</th>\n",
       "      <td>190127578</td>\n",
       "      <td>2019-11-20</td>\n",
       "      <td>2019-11-20</td>\n",
       "      <td>03:50:00</td>\n",
       "      <td>1</td>\n",
       "      <td>Central</td>\n",
       "      <td>21</td>\n",
       "      <td>M</td>\n",
       "      <td>101</td>\n",
       "      <td>STREET</td>\n",
       "      <td>1ST</td>\n",
       "      <td>(34.0492, -118.2391)</td>\n",
       "      <td>1</td>\n",
       "      <td>Traffic Accident</td>\n",
       "      <td>34.0492</td>\n",
       "      <td>-118.2391</td>\n",
       "      <td>Wednesday</td>\n",
       "      <td>11</td>\n",
       "      <td>2019</td>\n",
       "    </tr>\n",
       "    <tr>\n",
       "      <th>4</th>\n",
       "      <td>190319695</td>\n",
       "      <td>2019-08-30</td>\n",
       "      <td>2019-08-30</td>\n",
       "      <td>21:00:00</td>\n",
       "      <td>3</td>\n",
       "      <td>Southwest</td>\n",
       "      <td>49</td>\n",
       "      <td>M</td>\n",
       "      <td>101</td>\n",
       "      <td>STREET</td>\n",
       "      <td>MARTIN LUTHER KING JR</td>\n",
       "      <td>(34.0108, -118.3182)</td>\n",
       "      <td>2</td>\n",
       "      <td>Traffic Accident</td>\n",
       "      <td>34.0108</td>\n",
       "      <td>-118.3182</td>\n",
       "      <td>Friday</td>\n",
       "      <td>8</td>\n",
       "      <td>2019</td>\n",
       "    </tr>\n",
       "  </tbody>\n",
       "</table>\n",
       "</div>"
      ],
      "text/plain": [
       "   DR Number Date Reported Date Occurred Time Occurred  Area ID   Area Name   \n",
       "0  190319651    2019-08-24    2019-08-24      04:50:00        3   Southwest  \\\n",
       "1  190319680    2019-08-30    2019-08-30      23:20:00        3   Southwest   \n",
       "2  190413769    2019-08-25    2019-08-25      05:45:00        4  Hollenbeck   \n",
       "3  190127578    2019-11-20    2019-11-20      03:50:00        1     Central   \n",
       "4  190319695    2019-08-30    2019-08-30      21:00:00        3   Southwest   \n",
       "\n",
       "   Victim Age Victim Sex  Premise Code Premise Description   \n",
       "0          22          M           101              STREET  \\\n",
       "1          30          F           101              STREET   \n",
       "2          38          M           101              STREET   \n",
       "3          21          M           101              STREET   \n",
       "4          49          M           101              STREET   \n",
       "\n",
       "                           Address              Location  Severity   \n",
       "0  JEFFERSON                    BL  (34.0255, -118.3002)         2  \\\n",
       "1  JEFFERSON                    BL  (34.0256, -118.3089)         1   \n",
       "2                      N  BROADWAY  (34.0738, -118.2078)         1   \n",
       "3                              1ST  (34.0492, -118.2391)         1   \n",
       "4            MARTIN LUTHER KING JR  (34.0108, -118.3182)         2   \n",
       "\n",
       "            Factors  Latitude  Longitude Day of Week  Month  Year  \n",
       "0  Traffic Accident   34.0255  -118.3002    Saturday      8  2019  \n",
       "1         Road Rage   34.0256  -118.3089      Friday      8  2019  \n",
       "2         Road Rage   34.0738  -118.2078      Sunday      8  2019  \n",
       "3  Traffic Accident   34.0492  -118.2391   Wednesday     11  2019  \n",
       "4  Traffic Accident   34.0108  -118.3182      Friday      8  2019  "
      ]
     },
     "execution_count": 148,
     "metadata": {},
     "output_type": "execute_result"
    }
   ],
   "source": [
    "df.head()"
   ]
  },
  {
   "cell_type": "code",
   "execution_count": 149,
   "id": "c7ce676a",
   "metadata": {
    "execution": {
     "iopub.execute_input": "2023-12-03T04:47:45.175579Z",
     "iopub.status.busy": "2023-12-03T04:47:45.174851Z",
     "iopub.status.idle": "2023-12-03T04:47:45.639387Z",
     "shell.execute_reply": "2023-12-03T04:47:45.637919Z",
     "shell.execute_reply.started": "2023-12-03T04:47:45.175526Z"
    }
   },
   "outputs": [
    {
     "name": "stdout",
     "output_type": "stream",
     "text": [
      "Column \"DR Number\" has 598820 unique values.\n",
      "Column \"Date Reported\" has 5063 unique values.\n",
      "Column \"Date Occurred\" has 5063 unique values.\n",
      "Column \"Time Occurred\" has 1439 unique values.\n",
      "Column \"Area ID\" has 21 unique values.\n",
      "Column \"Area Name\" has 21 unique values.\n",
      "Column \"Victim Age\" has 90 unique values.\n",
      "Column \"Victim Sex\" has 2 unique values.\n",
      "Column \"Premise Code\" has 122 unique values.\n",
      "Column \"Premise Description\" has 122 unique values.\n",
      "Column \"Address\" has 28854 unique values.\n",
      "Column \"Location\" has 53046 unique values.\n",
      "Column \"Severity\" has 3 unique values.\n",
      "Column \"Factors\" has 3 unique values.\n",
      "Column \"Latitude\" has 5054 unique values.\n",
      "Column \"Longitude\" has 4837 unique values.\n",
      "Column \"Day of Week\" has 7 unique values.\n",
      "Column \"Month\" has 12 unique values.\n",
      "Column \"Year\" has 14 unique values.\n"
     ]
    }
   ],
   "source": [
    "# Get the number of unique values for each column\n",
    "unique_counts_per_column = df.nunique()\n",
    "\n",
    "# Display the results for each column\n",
    "for column_name, unique_count in unique_counts_per_column.items():\n",
    "    print(f'Column \"{column_name}\" has {unique_count} unique values.')"
   ]
  },
  {
   "cell_type": "code",
   "execution_count": 150,
   "id": "03b8caf6",
   "metadata": {
    "execution": {
     "iopub.execute_input": "2023-12-03T04:47:45.645198Z",
     "iopub.status.busy": "2023-12-03T04:47:45.644861Z",
     "iopub.status.idle": "2023-12-03T04:47:47.398406Z",
     "shell.execute_reply": "2023-12-03T04:47:47.397399Z",
     "shell.execute_reply.started": "2023-12-03T04:47:45.645168Z"
    }
   },
   "outputs": [
    {
     "data": {
      "image/png": "[encoded data removed]",
      "text/plain": [
       "<Figure size 800x600 with 1 Axes>"
      ]
     },
     "metadata": {},
     "output_type": "display_data"
    },
    {
     "data": {
      "image/png": "[encoded data removed]",
      "text/plain": [
       "<Figure size 1200x800 with 1 Axes>"
      ]
     },
     "metadata": {},
     "output_type": "display_data"
    },
    {
     "data": {
      "image/png": "[encoded data removed]",
      "text/plain": [
       "<Figure size 800x600 with 1 Axes>"
      ]
     },
     "metadata": {},
     "output_type": "display_data"
    }
   ],
   "source": [
    "import pandas as pd\n",
    "import matplotlib.pyplot as plt\n",
    "import seaborn as sns\n",
    "\n",
    "# Assuming your DataFrame is named df\n",
    "\n",
    "# Distribution of the target variable (assuming \"Severity\" is your target)\n",
    "plt.figure(figsize=(8, 6))\n",
    "sns.countplot(x='Severity', data=df)\n",
    "plt.title('Distribution of Road Accident Severity')\n",
    "plt.show()\n",
    "\n",
    "# Visualizing the relationship between categorical features and the target\n",
    "plt.figure(figsize=(12, 8))\n",
    "sns.countplot(x='Area Name', hue='Severity', data=df)\n",
    "plt.title('Road Accident Severity by Area Name')\n",
    "plt.xticks(rotation=45, ha='right')\n",
    "plt.show()\n",
    "\n",
    "# Exploring the distribution of accidents over days of the week\n",
    "plt.figure(figsize=(8, 6))\n",
    "sns.countplot(x='Day of Week', data=df, order=['Monday', 'Tuesday', 'Wednesday', 'Thursday', 'Friday', 'Saturday', 'Sunday'])\n",
    "plt.title('Distribution of Road Accidents over Days of the Week')\n",
    "plt.show()\n"
   ]
  },
  {
   "cell_type": "code",
   "execution_count": 151,
   "id": "20495f93",
   "metadata": {
    "execution": {
     "iopub.execute_input": "2023-12-03T04:47:47.400793Z",
     "iopub.status.busy": "2023-12-03T04:47:47.399879Z",
     "iopub.status.idle": "2023-12-03T04:47:49.128458Z",
     "shell.execute_reply": "2023-12-03T04:47:49.126810Z",
     "shell.execute_reply.started": "2023-12-03T04:47:47.400759Z"
    }
   },
   "outputs": [
    {
     "data": {
      "image/png": "[encoded data removed]",
      "text/plain": [
       "<Figure size 1000x600 with 1 Axes>"
      ]
     },
     "metadata": {},
     "output_type": "display_data"
    },
    {
     "data": {
      "image/png": "[encoded data removed]",
      "text/plain": [
       "<Figure size 1000x600 with 1 Axes>"
      ]
     },
     "metadata": {},
     "output_type": "display_data"
    },
    {
     "data": {
      "image/png": "[encoded data removed]",
      "text/plain": [
       "<Figure size 800x600 with 1 Axes>"
      ]
     },
     "metadata": {},
     "output_type": "display_data"
    }
   ],
   "source": [
    "# Exploring the distribution of accidents over months\n",
    "plt.figure(figsize=(10, 6))\n",
    "sns.countplot(x='Month', data=df, order=range(1, 13))\n",
    "plt.title('Distribution of Road Accidents over Months')\n",
    "plt.xlabel('Month')\n",
    "plt.show()\n",
    "\n",
    "# Box plot for Victim Age distribution by Severity\n",
    "plt.figure(figsize=(10, 6))\n",
    "sns.boxplot(x='Severity', y='Victim Age', data=df)\n",
    "plt.title('Victim Age Distribution by Road Accident Severity')\n",
    "plt.show()\n",
    "\n",
    "# Countplot for Victim Sex distribution by Severity\n",
    "plt.figure(figsize=(8, 6))\n",
    "sns.countplot(x='Victim Sex', hue='Severity', data=df)\n",
    "plt.title('Road Accident Severity by Victim Sex')\n",
    "plt.show()"
   ]
  },
  {
   "cell_type": "code",
   "execution_count": 152,
   "id": "2eb87a6d",
   "metadata": {
    "execution": {
     "iopub.execute_input": "2023-12-03T04:47:49.130395Z",
     "iopub.status.busy": "2023-12-03T04:47:49.130072Z",
     "iopub.status.idle": "2023-12-03T04:47:50.199123Z",
     "shell.execute_reply": "2023-12-03T04:47:50.195176Z",
     "shell.execute_reply.started": "2023-12-03T04:47:49.130370Z"
    }
   },
   "outputs": [
    {
     "data": {
      "image/png": "[encoded data removed]",
      "text/plain": [
       "<Figure size 1400x600 with 1 Axes>"
      ]
     },
     "metadata": {},
     "output_type": "display_data"
    }
   ],
   "source": [
    "df['Hour'] = pd.to_datetime(df['Time Occurred'].astype(str)).dt.hour\n",
    "\n",
    "# Plotting distribution of road accidents over time of day\n",
    "plt.figure(figsize=(14, 6))\n",
    "sns.countplot(x='Hour', data=df, color='skyblue')\n",
    "plt.title('Distribution of Road Accidents over Time of Day')\n",
    "plt.xlabel('Hour of Day')\n",
    "plt.ylabel('Number of Accidents')\n",
    "plt.xticks(rotation=45, ha='right')\n",
    "plt.show()"
   ]
  },
  {
   "cell_type": "code",
   "execution_count": null,
   "id": "c926c8a6",
   "metadata": {},
   "outputs": [],
   "source": []
  },
  {
   "cell_type": "markdown",
   "id": "b532919b",
   "metadata": {},
   "source": [
    "# **Time Trends:**"
   ]
  },
  {
   "cell_type": "code",
   "execution_count": 153,
   "id": "a1284afa",
   "metadata": {
    "execution": {
     "iopub.execute_input": "2023-12-03T04:47:50.202008Z",
     "iopub.status.busy": "2023-12-03T04:47:50.201214Z",
     "iopub.status.idle": "2023-12-03T04:47:51.492414Z",
     "shell.execute_reply": "2023-12-03T04:47:51.491562Z",
     "shell.execute_reply.started": "2023-12-03T04:47:50.201962Z"
    }
   },
   "outputs": [
    {
     "data": {
      "image/png": "[encoded data removed]",
      "text/plain": [
       "<Figure size 1400x800 with 2 Axes>"
      ]
     },
     "metadata": {},
     "output_type": "display_data"
    }
   ],
   "source": [
    "import pandas as pd\n",
    "import matplotlib.pyplot as plt\n",
    "import seaborn as sns\n",
    "\n",
    "# Assuming 'Date Occurred' is already in datetime format\n",
    "# Extract year and month from 'Date Occurred'\n",
    "df['Year'] = df['Date Occurred'].dt.year\n",
    "df['Month'] = df['Date Occurred'].dt.month_name()\n",
    "\n",
    "# Create a pivot table for heatmap\n",
    "heatmap_data = df.groupby(['Year', 'Month']).size().reset_index(name='Accident Count')\n",
    "heatmap_data['Month'] = pd.Categorical(heatmap_data['Month'], categories=[\n",
    "    'January', 'February', 'March', 'April', 'May', 'June', 'July', 'August', 'September', 'October', 'November', 'December'\n",
    "], ordered=True)\n",
    "heatmap_data = heatmap_data.pivot_table(index='Month', columns='Year', values='Accident Count', aggfunc='sum')\n",
    "\n",
    "# Plotting the heatmap\n",
    "plt.figure(figsize=(14, 8))\n",
    "sns.heatmap(heatmap_data, cmap='Blues', annot=True, fmt='d', linewidths=.5)\n",
    "plt.title('Distribution of Road Accidents Over Each Year and Month')\n",
    "plt.xlabel('Year')\n",
    "plt.ylabel('Month')\n",
    "plt.show()\n"
   ]
  },
  {
   "cell_type": "code",
   "execution_count": 154,
   "id": "1c50c65a",
   "metadata": {
    "execution": {
     "iopub.execute_input": "2023-12-03T04:47:51.494049Z",
     "iopub.status.busy": "2023-12-03T04:47:51.493538Z",
     "iopub.status.idle": "2023-12-03T04:47:52.280515Z",
     "shell.execute_reply": "2023-12-03T04:47:52.278666Z",
     "shell.execute_reply.started": "2023-12-03T04:47:51.494012Z"
    }
   },
   "outputs": [
    {
     "data": {
      "image/png": "[encoded data removed]",
      "text/plain": [
       "<Figure size 1600x1200 with 2 Axes>"
      ]
     },
     "metadata": {},
     "output_type": "display_data"
    }
   ],
   "source": [
    "# Select columns for encoding\n",
    "columns_for_encoding = ['Area ID', 'Victim Age', 'Victim Sex', 'Premise Code', 'Severity', 'Factors', 'Year']\n",
    "\n",
    "# One-hot encode selected columns\n",
    "df_encoded = pd.get_dummies(df[columns_for_encoding], \n",
    "                             columns=['Victim Sex', 'Factors'], \n",
    "                             drop_first=True)  # Use drop_first to avoid multicollinearity\n",
    "\n",
    "# Compute the correlation matrix\n",
    "correlation_matrix = df_encoded.corr()\n",
    "\n",
    "# Plot the heatmap\n",
    "plt.figure(figsize=(16, 12))\n",
    "sns.heatmap(correlation_matrix, annot=True, cmap='coolwarm', fmt=\".2f\", linewidths=.5)\n",
    "plt.title('Correlation Heatmap')\n",
    "plt.show()\n"
   ]
  },
  {
   "cell_type": "code",
   "execution_count": 155,
   "id": "f632f2fe",
   "metadata": {
    "execution": {
     "iopub.execute_input": "2023-12-03T04:47:52.282792Z",
     "iopub.status.busy": "2023-12-03T04:47:52.282169Z",
     "iopub.status.idle": "2023-12-03T04:47:52.436278Z",
     "shell.execute_reply": "2023-12-03T04:47:52.435251Z",
     "shell.execute_reply.started": "2023-12-03T04:47:52.282764Z"
    }
   },
   "outputs": [],
   "source": [
    "df1 = df.copy()"
   ]
  },
  {
   "cell_type": "code",
   "execution_count": 156,
   "id": "1442fb68",
   "metadata": {
    "execution": {
     "iopub.execute_input": "2023-12-03T04:47:52.437762Z",
     "iopub.status.busy": "2023-12-03T04:47:52.437444Z",
     "iopub.status.idle": "2023-12-03T04:47:53.062121Z",
     "shell.execute_reply": "2023-12-03T04:47:53.060179Z",
     "shell.execute_reply.started": "2023-12-03T04:47:52.437733Z"
    }
   },
   "outputs": [
    {
     "name": "stdout",
     "output_type": "stream",
     "text": [
      "Shape after removing outliers: (588143, 20)\n"
     ]
    }
   ],
   "source": [
    "import pandas as pd\n",
    "import numpy as np\n",
    "\n",
    "# Assuming your DataFrame is named df\n",
    "\n",
    "# Define columns with numerical data\n",
    "numerical_columns = [\"Victim Age\", \"Latitude\", \"Longitude\"]\n",
    "\n",
    "# Function to remove outliers based on IQR\n",
    "def remove_outliers_iqr(df, column):\n",
    "    Q1 = df[column].quantile(0.20)\n",
    "    Q3 = df[column].quantile(0.80)\n",
    "    IQR = Q3 - Q1\n",
    "    lower_bound = Q1 - 1.5 * IQR\n",
    "    upper_bound = Q3 + 1.5 * IQR\n",
    "    df = df[(df[column] >= lower_bound) & (df[column] <= upper_bound)]\n",
    "    return df\n",
    "\n",
    "# Remove outliers for each numerical column\n",
    "for column in numerical_columns:\n",
    "    df = remove_outliers_iqr(df, column)\n",
    "\n",
    "# Check the shape of the DataFrame after removing outliers\n",
    "print(\"Shape after removing outliers:\", df.shape)\n"
   ]
  },
  {
   "cell_type": "code",
   "execution_count": 157,
   "id": "553a93ec",
   "metadata": {
    "execution": {
     "iopub.execute_input": "2023-12-03T04:47:53.067070Z",
     "iopub.status.busy": "2023-12-03T04:47:53.066740Z",
     "iopub.status.idle": "2023-12-03T04:47:53.236258Z",
     "shell.execute_reply": "2023-12-03T04:47:53.234492Z",
     "shell.execute_reply.started": "2023-12-03T04:47:53.067043Z"
    }
   },
   "outputs": [],
   "source": [
    "df2 = df.copy()"
   ]
  },
  {
   "cell_type": "code",
   "execution_count": 158,
   "id": "f59b4e8f",
   "metadata": {
    "execution": {
     "iopub.execute_input": "2023-12-03T04:47:53.238139Z",
     "iopub.status.busy": "2023-12-03T04:47:53.237763Z",
     "iopub.status.idle": "2023-12-03T04:47:53.264680Z",
     "shell.execute_reply": "2023-12-03T04:47:53.263049Z",
     "shell.execute_reply.started": "2023-12-03T04:47:53.238107Z"
    }
   },
   "outputs": [
    {
     "data": {
      "text/html": [
       "<div>\n",
       "<style scoped>\n",
       "    .dataframe tbody tr th:only-of-type {\n",
       "        vertical-align: middle;\n",
       "    }\n",
       "\n",
       "    .dataframe tbody tr th {\n",
       "        vertical-align: top;\n",
       "    }\n",
       "\n",
       "    .dataframe thead th {\n",
       "        text-align: right;\n",
       "    }\n",
       "</style>\n",
       "<table border=\"1\" class=\"dataframe\">\n",
       "  <thead>\n",
       "    <tr style=\"text-align: right;\">\n",
       "      <th></th>\n",
       "      <th>DR Number</th>\n",
       "      <th>Date Reported</th>\n",
       "      <th>Date Occurred</th>\n",
       "      <th>Time Occurred</th>\n",
       "      <th>Area ID</th>\n",
       "      <th>Area Name</th>\n",
       "      <th>Victim Age</th>\n",
       "      <th>Victim Sex</th>\n",
       "      <th>Premise Code</th>\n",
       "      <th>Premise Description</th>\n",
       "      <th>Address</th>\n",
       "      <th>Location</th>\n",
       "      <th>Severity</th>\n",
       "      <th>Factors</th>\n",
       "      <th>Latitude</th>\n",
       "      <th>Longitude</th>\n",
       "      <th>Day of Week</th>\n",
       "      <th>Month</th>\n",
       "      <th>Year</th>\n",
       "      <th>Hour</th>\n",
       "    </tr>\n",
       "  </thead>\n",
       "  <tbody>\n",
       "    <tr>\n",
       "      <th>0</th>\n",
       "      <td>190319651</td>\n",
       "      <td>2019-08-24</td>\n",
       "      <td>2019-08-24</td>\n",
       "      <td>04:50:00</td>\n",
       "      <td>3</td>\n",
       "      <td>Southwest</td>\n",
       "      <td>22</td>\n",
       "      <td>M</td>\n",
       "      <td>101</td>\n",
       "      <td>STREET</td>\n",
       "      <td>JEFFERSON                    BL</td>\n",
       "      <td>(34.0255, -118.3002)</td>\n",
       "      <td>2</td>\n",
       "      <td>Traffic Accident</td>\n",
       "      <td>34.0255</td>\n",
       "      <td>-118.3002</td>\n",
       "      <td>Saturday</td>\n",
       "      <td>August</td>\n",
       "      <td>2019</td>\n",
       "      <td>4</td>\n",
       "    </tr>\n",
       "    <tr>\n",
       "      <th>1</th>\n",
       "      <td>190319680</td>\n",
       "      <td>2019-08-30</td>\n",
       "      <td>2019-08-30</td>\n",
       "      <td>23:20:00</td>\n",
       "      <td>3</td>\n",
       "      <td>Southwest</td>\n",
       "      <td>30</td>\n",
       "      <td>F</td>\n",
       "      <td>101</td>\n",
       "      <td>STREET</td>\n",
       "      <td>JEFFERSON                    BL</td>\n",
       "      <td>(34.0256, -118.3089)</td>\n",
       "      <td>1</td>\n",
       "      <td>Road Rage</td>\n",
       "      <td>34.0256</td>\n",
       "      <td>-118.3089</td>\n",
       "      <td>Friday</td>\n",
       "      <td>August</td>\n",
       "      <td>2019</td>\n",
       "      <td>23</td>\n",
       "    </tr>\n",
       "    <tr>\n",
       "      <th>2</th>\n",
       "      <td>190413769</td>\n",
       "      <td>2019-08-25</td>\n",
       "      <td>2019-08-25</td>\n",
       "      <td>05:45:00</td>\n",
       "      <td>4</td>\n",
       "      <td>Hollenbeck</td>\n",
       "      <td>38</td>\n",
       "      <td>M</td>\n",
       "      <td>101</td>\n",
       "      <td>STREET</td>\n",
       "      <td>N  BROADWAY</td>\n",
       "      <td>(34.0738, -118.2078)</td>\n",
       "      <td>1</td>\n",
       "      <td>Road Rage</td>\n",
       "      <td>34.0738</td>\n",
       "      <td>-118.2078</td>\n",
       "      <td>Sunday</td>\n",
       "      <td>August</td>\n",
       "      <td>2019</td>\n",
       "      <td>5</td>\n",
       "    </tr>\n",
       "    <tr>\n",
       "      <th>3</th>\n",
       "      <td>190127578</td>\n",
       "      <td>2019-11-20</td>\n",
       "      <td>2019-11-20</td>\n",
       "      <td>03:50:00</td>\n",
       "      <td>1</td>\n",
       "      <td>Central</td>\n",
       "      <td>21</td>\n",
       "      <td>M</td>\n",
       "      <td>101</td>\n",
       "      <td>STREET</td>\n",
       "      <td>1ST</td>\n",
       "      <td>(34.0492, -118.2391)</td>\n",
       "      <td>1</td>\n",
       "      <td>Traffic Accident</td>\n",
       "      <td>34.0492</td>\n",
       "      <td>-118.2391</td>\n",
       "      <td>Wednesday</td>\n",
       "      <td>November</td>\n",
       "      <td>2019</td>\n",
       "      <td>3</td>\n",
       "    </tr>\n",
       "    <tr>\n",
       "      <th>4</th>\n",
       "      <td>190319695</td>\n",
       "      <td>2019-08-30</td>\n",
       "      <td>2019-08-30</td>\n",
       "      <td>21:00:00</td>\n",
       "      <td>3</td>\n",
       "      <td>Southwest</td>\n",
       "      <td>49</td>\n",
       "      <td>M</td>\n",
       "      <td>101</td>\n",
       "      <td>STREET</td>\n",
       "      <td>MARTIN LUTHER KING JR</td>\n",
       "      <td>(34.0108, -118.3182)</td>\n",
       "      <td>2</td>\n",
       "      <td>Traffic Accident</td>\n",
       "      <td>34.0108</td>\n",
       "      <td>-118.3182</td>\n",
       "      <td>Friday</td>\n",
       "      <td>August</td>\n",
       "      <td>2019</td>\n",
       "      <td>21</td>\n",
       "    </tr>\n",
       "  </tbody>\n",
       "</table>\n",
       "</div>"
      ],
      "text/plain": [
       "   DR Number Date Reported Date Occurred Time Occurred  Area ID   Area Name   \n",
       "0  190319651    2019-08-24    2019-08-24      04:50:00        3   Southwest  \\\n",
       "1  190319680    2019-08-30    2019-08-30      23:20:00        3   Southwest   \n",
       "2  190413769    2019-08-25    2019-08-25      05:45:00        4  Hollenbeck   \n",
       "3  190127578    2019-11-20    2019-11-20      03:50:00        1     Central   \n",
       "4  190319695    2019-08-30    2019-08-30      21:00:00        3   Southwest   \n",
       "\n",
       "   Victim Age Victim Sex  Premise Code Premise Description   \n",
       "0          22          M           101              STREET  \\\n",
       "1          30          F           101              STREET   \n",
       "2          38          M           101              STREET   \n",
       "3          21          M           101              STREET   \n",
       "4          49          M           101              STREET   \n",
       "\n",
       "                           Address              Location  Severity   \n",
       "0  JEFFERSON                    BL  (34.0255, -118.3002)         2  \\\n",
       "1  JEFFERSON                    BL  (34.0256, -118.3089)         1   \n",
       "2                      N  BROADWAY  (34.0738, -118.2078)         1   \n",
       "3                              1ST  (34.0492, -118.2391)         1   \n",
       "4            MARTIN LUTHER KING JR  (34.0108, -118.3182)         2   \n",
       "\n",
       "            Factors  Latitude  Longitude Day of Week     Month  Year  Hour  \n",
       "0  Traffic Accident   34.0255  -118.3002    Saturday    August  2019     4  \n",
       "1         Road Rage   34.0256  -118.3089      Friday    August  2019    23  \n",
       "2         Road Rage   34.0738  -118.2078      Sunday    August  2019     5  \n",
       "3  Traffic Accident   34.0492  -118.2391   Wednesday  November  2019     3  \n",
       "4  Traffic Accident   34.0108  -118.3182      Friday    August  2019    21  "
      ]
     },
     "execution_count": 158,
     "metadata": {},
     "output_type": "execute_result"
    }
   ],
   "source": [
    "df2.head()"
   ]
  },
  {
   "cell_type": "code",
   "execution_count": 159,
   "id": "cb0bf1c7",
   "metadata": {
    "execution": {
     "iopub.execute_input": "2023-12-03T04:47:53.267164Z",
     "iopub.status.busy": "2023-12-03T04:47:53.266789Z",
     "iopub.status.idle": "2023-12-03T04:47:53.506048Z",
     "shell.execute_reply": "2023-12-03T04:47:53.504681Z",
     "shell.execute_reply.started": "2023-12-03T04:47:53.267131Z"
    }
   },
   "outputs": [
    {
     "name": "stdout",
     "output_type": "stream",
     "text": [
      "Shape before filtering: (588143, 20)\n",
      "Shape after filtering: (587923, 20)\n"
     ]
    }
   ],
   "source": [
    "# Set a threshold for minimum occurrences\n",
    "min_occurrences_threshold = 10\n",
    "\n",
    "# Count occurrences of each \"Premise Description\"\n",
    "premise_counts = df['Premise Description'].value_counts()\n",
    "\n",
    "# Get the list of premises to drop based on the threshold\n",
    "premises_to_drop = premise_counts[premise_counts < min_occurrences_threshold].index\n",
    "\n",
    "# Filter the DataFrame to keep only rows with premises above the threshold\n",
    "df_filtered = df[~df['Premise Description'].isin(premises_to_drop)]\n",
    "\n",
    "# Display the shape of the DataFrame before and after filtering\n",
    "print(\"Shape before filtering:\", df.shape)\n",
    "print(\"Shape after filtering:\", df_filtered.shape)\n"
   ]
  },
  {
   "cell_type": "code",
   "execution_count": 160,
   "id": "0f85a0d9",
   "metadata": {
    "execution": {
     "iopub.execute_input": "2023-12-03T04:47:53.507654Z",
     "iopub.status.busy": "2023-12-03T04:47:53.507298Z",
     "iopub.status.idle": "2023-12-03T04:47:53.516956Z",
     "shell.execute_reply": "2023-12-03T04:47:53.515500Z",
     "shell.execute_reply.started": "2023-12-03T04:47:53.507628Z"
    }
   },
   "outputs": [
    {
     "data": {
      "text/plain": [
       "0    JEFFERSON                    BL\n",
       "1    JEFFERSON                    BL\n",
       "2                        N  BROADWAY\n",
       "3                                1ST\n",
       "4              MARTIN LUTHER KING JR\n",
       "Name: Address, dtype: string"
      ]
     },
     "execution_count": 160,
     "metadata": {},
     "output_type": "execute_result"
    }
   ],
   "source": [
    "df['Address'].head()"
   ]
  },
  {
   "cell_type": "code",
   "execution_count": 161,
   "id": "3e50b8b9",
   "metadata": {
    "execution": {
     "iopub.execute_input": "2023-12-03T04:47:53.519122Z",
     "iopub.status.busy": "2023-12-03T04:47:53.518528Z",
     "iopub.status.idle": "2023-12-03T04:47:55.145750Z",
     "shell.execute_reply": "2023-12-03T04:47:55.144457Z",
     "shell.execute_reply.started": "2023-12-03T04:47:53.519088Z"
    }
   },
   "outputs": [
    {
     "name": "stdout",
     "output_type": "stream",
     "text": [
      "0               Jefferson \n",
      "1               Jefferson \n",
      "2               N Broadway\n",
      "3                      1St\n",
      "4    Martin Luther King Jr\n",
      "Name: Address, dtype: string\n"
     ]
    }
   ],
   "source": [
    "import re\n",
    "\n",
    "# Assuming your DataFrame is named df\n",
    "\n",
    "# Clean up and format the \"Address\" column\n",
    "df['Address'] = df['Address'].str.strip()  # Remove leading/trailing spaces\n",
    "df['Address'] = df['Address'].str.title()  # Convert to title case\n",
    "df['Address'] = df['Address'].str.replace(r'\\s+', ' ', regex=True)  # Replace multiple spaces with a single space\n",
    "df['Address'] = df['Address'].str.replace(r'\\b(Bl|Blvd|Street)\\b', '', regex=True)  # Remove specific suffixes like 'Bl', 'Blvd', 'Street'\n",
    "\n",
    "# Display the updated DataFrame\n",
    "print(df['Address'].head())\n"
   ]
  },
  {
   "cell_type": "code",
   "execution_count": 162,
   "id": "ef9b71b8",
   "metadata": {
    "execution": {
     "iopub.execute_input": "2023-12-03T04:47:55.147101Z",
     "iopub.status.busy": "2023-12-03T04:47:55.146829Z",
     "iopub.status.idle": "2023-12-03T04:47:55.188500Z",
     "shell.execute_reply": "2023-12-03T04:47:55.187331Z",
     "shell.execute_reply.started": "2023-12-03T04:47:55.147077Z"
    }
   },
   "outputs": [
    {
     "data": {
      "text/html": [
       "<div>\n",
       "<style scoped>\n",
       "    .dataframe tbody tr th:only-of-type {\n",
       "        vertical-align: middle;\n",
       "    }\n",
       "\n",
       "    .dataframe tbody tr th {\n",
       "        vertical-align: top;\n",
       "    }\n",
       "\n",
       "    .dataframe thead th {\n",
       "        text-align: right;\n",
       "    }\n",
       "</style>\n",
       "<table border=\"1\" class=\"dataframe\">\n",
       "  <thead>\n",
       "    <tr style=\"text-align: right;\">\n",
       "      <th></th>\n",
       "      <th>DR Number</th>\n",
       "      <th>Date Reported</th>\n",
       "      <th>Date Occurred</th>\n",
       "      <th>Time Occurred</th>\n",
       "      <th>Area ID</th>\n",
       "      <th>Area Name</th>\n",
       "      <th>Victim Age</th>\n",
       "      <th>Victim Sex</th>\n",
       "      <th>Premise Code</th>\n",
       "      <th>Premise Description</th>\n",
       "      <th>Address</th>\n",
       "      <th>Location</th>\n",
       "      <th>Severity</th>\n",
       "      <th>Factors</th>\n",
       "      <th>Latitude</th>\n",
       "      <th>Longitude</th>\n",
       "      <th>Day of Week</th>\n",
       "      <th>Month</th>\n",
       "      <th>Year</th>\n",
       "      <th>Hour</th>\n",
       "    </tr>\n",
       "  </thead>\n",
       "  <tbody>\n",
       "    <tr>\n",
       "      <th>0</th>\n",
       "      <td>190319651</td>\n",
       "      <td>2019-08-24</td>\n",
       "      <td>2019-08-24</td>\n",
       "      <td>04:50:00</td>\n",
       "      <td>3</td>\n",
       "      <td>Southwest</td>\n",
       "      <td>22</td>\n",
       "      <td>M</td>\n",
       "      <td>101</td>\n",
       "      <td>STREET</td>\n",
       "      <td>JEFFERSON                    BL</td>\n",
       "      <td>(34.0255, -118.3002)</td>\n",
       "      <td>2</td>\n",
       "      <td>Traffic Accident</td>\n",
       "      <td>34.0255</td>\n",
       "      <td>-118.3002</td>\n",
       "      <td>Saturday</td>\n",
       "      <td>August</td>\n",
       "      <td>2019</td>\n",
       "      <td>4</td>\n",
       "    </tr>\n",
       "    <tr>\n",
       "      <th>1</th>\n",
       "      <td>190319680</td>\n",
       "      <td>2019-08-30</td>\n",
       "      <td>2019-08-30</td>\n",
       "      <td>23:20:00</td>\n",
       "      <td>3</td>\n",
       "      <td>Southwest</td>\n",
       "      <td>30</td>\n",
       "      <td>F</td>\n",
       "      <td>101</td>\n",
       "      <td>STREET</td>\n",
       "      <td>JEFFERSON                    BL</td>\n",
       "      <td>(34.0256, -118.3089)</td>\n",
       "      <td>1</td>\n",
       "      <td>Road Rage</td>\n",
       "      <td>34.0256</td>\n",
       "      <td>-118.3089</td>\n",
       "      <td>Friday</td>\n",
       "      <td>August</td>\n",
       "      <td>2019</td>\n",
       "      <td>23</td>\n",
       "    </tr>\n",
       "    <tr>\n",
       "      <th>2</th>\n",
       "      <td>190413769</td>\n",
       "      <td>2019-08-25</td>\n",
       "      <td>2019-08-25</td>\n",
       "      <td>05:45:00</td>\n",
       "      <td>4</td>\n",
       "      <td>Hollenbeck</td>\n",
       "      <td>38</td>\n",
       "      <td>M</td>\n",
       "      <td>101</td>\n",
       "      <td>STREET</td>\n",
       "      <td>N  BROADWAY</td>\n",
       "      <td>(34.0738, -118.2078)</td>\n",
       "      <td>1</td>\n",
       "      <td>Road Rage</td>\n",
       "      <td>34.0738</td>\n",
       "      <td>-118.2078</td>\n",
       "      <td>Sunday</td>\n",
       "      <td>August</td>\n",
       "      <td>2019</td>\n",
       "      <td>5</td>\n",
       "    </tr>\n",
       "    <tr>\n",
       "      <th>3</th>\n",
       "      <td>190127578</td>\n",
       "      <td>2019-11-20</td>\n",
       "      <td>2019-11-20</td>\n",
       "      <td>03:50:00</td>\n",
       "      <td>1</td>\n",
       "      <td>Central</td>\n",
       "      <td>21</td>\n",
       "      <td>M</td>\n",
       "      <td>101</td>\n",
       "      <td>STREET</td>\n",
       "      <td>1ST</td>\n",
       "      <td>(34.0492, -118.2391)</td>\n",
       "      <td>1</td>\n",
       "      <td>Traffic Accident</td>\n",
       "      <td>34.0492</td>\n",
       "      <td>-118.2391</td>\n",
       "      <td>Wednesday</td>\n",
       "      <td>November</td>\n",
       "      <td>2019</td>\n",
       "      <td>3</td>\n",
       "    </tr>\n",
       "    <tr>\n",
       "      <th>4</th>\n",
       "      <td>190319695</td>\n",
       "      <td>2019-08-30</td>\n",
       "      <td>2019-08-30</td>\n",
       "      <td>21:00:00</td>\n",
       "      <td>3</td>\n",
       "      <td>Southwest</td>\n",
       "      <td>49</td>\n",
       "      <td>M</td>\n",
       "      <td>101</td>\n",
       "      <td>STREET</td>\n",
       "      <td>MARTIN LUTHER KING JR</td>\n",
       "      <td>(34.0108, -118.3182)</td>\n",
       "      <td>2</td>\n",
       "      <td>Traffic Accident</td>\n",
       "      <td>34.0108</td>\n",
       "      <td>-118.3182</td>\n",
       "      <td>Friday</td>\n",
       "      <td>August</td>\n",
       "      <td>2019</td>\n",
       "      <td>21</td>\n",
       "    </tr>\n",
       "  </tbody>\n",
       "</table>\n",
       "</div>"
      ],
      "text/plain": [
       "   DR Number Date Reported Date Occurred Time Occurred  Area ID   Area Name   \n",
       "0  190319651    2019-08-24    2019-08-24      04:50:00        3   Southwest  \\\n",
       "1  190319680    2019-08-30    2019-08-30      23:20:00        3   Southwest   \n",
       "2  190413769    2019-08-25    2019-08-25      05:45:00        4  Hollenbeck   \n",
       "3  190127578    2019-11-20    2019-11-20      03:50:00        1     Central   \n",
       "4  190319695    2019-08-30    2019-08-30      21:00:00        3   Southwest   \n",
       "\n",
       "   Victim Age Victim Sex  Premise Code Premise Description   \n",
       "0          22          M           101              STREET  \\\n",
       "1          30          F           101              STREET   \n",
       "2          38          M           101              STREET   \n",
       "3          21          M           101              STREET   \n",
       "4          49          M           101              STREET   \n",
       "\n",
       "                           Address              Location  Severity   \n",
       "0  JEFFERSON                    BL  (34.0255, -118.3002)         2  \\\n",
       "1  JEFFERSON                    BL  (34.0256, -118.3089)         1   \n",
       "2                      N  BROADWAY  (34.0738, -118.2078)         1   \n",
       "3                              1ST  (34.0492, -118.2391)         1   \n",
       "4            MARTIN LUTHER KING JR  (34.0108, -118.3182)         2   \n",
       "\n",
       "            Factors  Latitude  Longitude Day of Week     Month  Year  Hour  \n",
       "0  Traffic Accident   34.0255  -118.3002    Saturday    August  2019     4  \n",
       "1         Road Rage   34.0256  -118.3089      Friday    August  2019    23  \n",
       "2         Road Rage   34.0738  -118.2078      Sunday    August  2019     5  \n",
       "3  Traffic Accident   34.0492  -118.2391   Wednesday  November  2019     3  \n",
       "4  Traffic Accident   34.0108  -118.3182      Friday    August  2019    21  "
      ]
     },
     "execution_count": 162,
     "metadata": {},
     "output_type": "execute_result"
    }
   ],
   "source": [
    "df2.head()"
   ]
  },
  {
   "cell_type": "code",
   "execution_count": 163,
   "id": "a4956add",
   "metadata": {},
   "outputs": [],
   "source": [
    "import numpy as np\n",
    "\n",
    "# Replace values with counts less than 500 with NaN\n",
    "outlier_values = df2['Premise Code'].value_counts() < 4000\n",
    "outliers = outlier_values[outlier_values].index\n",
    "df2['Premise Code'] = np.where(df2['Premise Code'].isin(outliers), np.nan, df2['Premise Code'])\n"
   ]
  },
  {
   "cell_type": "code",
   "execution_count": 164,
   "id": "aa61cf16",
   "metadata": {},
   "outputs": [
    {
     "data": {
      "text/plain": [
       "DR Number                 0\n",
       "Date Reported             0\n",
       "Date Occurred             0\n",
       "Time Occurred             0\n",
       "Area ID                   0\n",
       "Area Name                 0\n",
       "Victim Age                0\n",
       "Victim Sex                0\n",
       "Premise Code           8594\n",
       "Premise Description       0\n",
       "Address                   0\n",
       "Location                  0\n",
       "Severity                  0\n",
       "Factors                   0\n",
       "Latitude                  0\n",
       "Longitude                 0\n",
       "Day of Week               0\n",
       "Month                     0\n",
       "Year                      0\n",
       "Hour                      0\n",
       "dtype: int64"
      ]
     },
     "execution_count": 164,
     "metadata": {},
     "output_type": "execute_result"
    }
   ],
   "source": [
    "df2.isnull().sum()"
   ]
  },
  {
   "cell_type": "code",
   "execution_count": 165,
   "id": "787cb220",
   "metadata": {},
   "outputs": [],
   "source": [
    "df2['Premise Code'].fillna(value=102, inplace=True)"
   ]
  },
  {
   "cell_type": "code",
   "execution_count": 166,
   "id": "f6e0c60a",
   "metadata": {
    "scrolled": false
   },
   "outputs": [
    {
     "data": {
      "text/plain": [
       "Premise Code\n",
       "101    561330\n",
       "108     18219\n",
       "102      8594\n",
       "Name: count, dtype: int64"
      ]
     },
     "execution_count": 166,
     "metadata": {},
     "output_type": "execute_result"
    }
   ],
   "source": [
    "df2['Premise Code'].value_counts() "
   ]
  },
  {
   "cell_type": "code",
   "execution_count": 167,
   "id": "28fcc881",
   "metadata": {
    "execution": {
     "iopub.execute_input": "2023-12-03T04:47:55.190984Z",
     "iopub.status.busy": "2023-12-03T04:47:55.190534Z",
     "iopub.status.idle": "2023-12-03T04:47:55.249594Z",
     "shell.execute_reply": "2023-12-03T04:47:55.248414Z",
     "shell.execute_reply.started": "2023-12-03T04:47:55.190952Z"
    }
   },
   "outputs": [],
   "source": [
    "df2.drop(columns=['Date Occurred','Time Occurred', 'Area Name','Premise Description','Address', 'Location', 'DR Number', 'Date Reported'], inplace=True)"
   ]
  },
  {
   "cell_type": "code",
   "execution_count": 168,
   "id": "38cec0d5",
   "metadata": {
    "execution": {
     "iopub.execute_input": "2023-12-03T04:47:55.251083Z",
     "iopub.status.busy": "2023-12-03T04:47:55.250686Z",
     "iopub.status.idle": "2023-12-03T04:47:55.355970Z",
     "shell.execute_reply": "2023-12-03T04:47:55.354963Z",
     "shell.execute_reply.started": "2023-12-03T04:47:55.251047Z"
    }
   },
   "outputs": [
    {
     "name": "stdout",
     "output_type": "stream",
     "text": [
      "<class 'pandas.core.frame.DataFrame'>\n",
      "Index: 588143 entries, 0 to 599779\n",
      "Data columns (total 12 columns):\n",
      " #   Column        Non-Null Count   Dtype  \n",
      "---  ------        --------------   -----  \n",
      " 0   Area ID       588143 non-null  Int64  \n",
      " 1   Victim Age    588143 non-null  Int64  \n",
      " 2   Victim Sex    588143 non-null  string \n",
      " 3   Premise Code  588143 non-null  int64  \n",
      " 4   Severity      588143 non-null  Int64  \n",
      " 5   Factors       588143 non-null  string \n",
      " 6   Latitude      588143 non-null  Float64\n",
      " 7   Longitude     588143 non-null  Float64\n",
      " 8   Day of Week   588143 non-null  string \n",
      " 9   Month         588143 non-null  object \n",
      " 10  Year          588143 non-null  int32  \n",
      " 11  Hour          588143 non-null  int32  \n",
      "dtypes: Float64(2), Int64(3), int32(2), int64(1), object(1), string(3)\n",
      "memory usage: 56.7+ MB\n"
     ]
    }
   ],
   "source": [
    "df2.info()"
   ]
  },
  {
   "cell_type": "code",
   "execution_count": 169,
   "id": "534041fd",
   "metadata": {
    "execution": {
     "iopub.execute_input": "2023-12-03T04:47:55.357712Z",
     "iopub.status.busy": "2023-12-03T04:47:55.357302Z",
     "iopub.status.idle": "2023-12-03T04:47:55.378779Z",
     "shell.execute_reply": "2023-12-03T04:47:55.376621Z",
     "shell.execute_reply.started": "2023-12-03T04:47:55.357676Z"
    }
   },
   "outputs": [
    {
     "data": {
      "text/html": [
       "<div>\n",
       "<style scoped>\n",
       "    .dataframe tbody tr th:only-of-type {\n",
       "        vertical-align: middle;\n",
       "    }\n",
       "\n",
       "    .dataframe tbody tr th {\n",
       "        vertical-align: top;\n",
       "    }\n",
       "\n",
       "    .dataframe thead th {\n",
       "        text-align: right;\n",
       "    }\n",
       "</style>\n",
       "<table border=\"1\" class=\"dataframe\">\n",
       "  <thead>\n",
       "    <tr style=\"text-align: right;\">\n",
       "      <th></th>\n",
       "      <th>Area ID</th>\n",
       "      <th>Victim Age</th>\n",
       "      <th>Victim Sex</th>\n",
       "      <th>Premise Code</th>\n",
       "      <th>Severity</th>\n",
       "      <th>Factors</th>\n",
       "      <th>Latitude</th>\n",
       "      <th>Longitude</th>\n",
       "      <th>Day of Week</th>\n",
       "      <th>Month</th>\n",
       "      <th>Year</th>\n",
       "      <th>Hour</th>\n",
       "    </tr>\n",
       "  </thead>\n",
       "  <tbody>\n",
       "    <tr>\n",
       "      <th>0</th>\n",
       "      <td>3</td>\n",
       "      <td>22</td>\n",
       "      <td>M</td>\n",
       "      <td>101</td>\n",
       "      <td>2</td>\n",
       "      <td>Traffic Accident</td>\n",
       "      <td>34.0255</td>\n",
       "      <td>-118.3002</td>\n",
       "      <td>Saturday</td>\n",
       "      <td>August</td>\n",
       "      <td>2019</td>\n",
       "      <td>4</td>\n",
       "    </tr>\n",
       "    <tr>\n",
       "      <th>1</th>\n",
       "      <td>3</td>\n",
       "      <td>30</td>\n",
       "      <td>F</td>\n",
       "      <td>101</td>\n",
       "      <td>1</td>\n",
       "      <td>Road Rage</td>\n",
       "      <td>34.0256</td>\n",
       "      <td>-118.3089</td>\n",
       "      <td>Friday</td>\n",
       "      <td>August</td>\n",
       "      <td>2019</td>\n",
       "      <td>23</td>\n",
       "    </tr>\n",
       "    <tr>\n",
       "      <th>2</th>\n",
       "      <td>4</td>\n",
       "      <td>38</td>\n",
       "      <td>M</td>\n",
       "      <td>101</td>\n",
       "      <td>1</td>\n",
       "      <td>Road Rage</td>\n",
       "      <td>34.0738</td>\n",
       "      <td>-118.2078</td>\n",
       "      <td>Sunday</td>\n",
       "      <td>August</td>\n",
       "      <td>2019</td>\n",
       "      <td>5</td>\n",
       "    </tr>\n",
       "    <tr>\n",
       "      <th>3</th>\n",
       "      <td>1</td>\n",
       "      <td>21</td>\n",
       "      <td>M</td>\n",
       "      <td>101</td>\n",
       "      <td>1</td>\n",
       "      <td>Traffic Accident</td>\n",
       "      <td>34.0492</td>\n",
       "      <td>-118.2391</td>\n",
       "      <td>Wednesday</td>\n",
       "      <td>November</td>\n",
       "      <td>2019</td>\n",
       "      <td>3</td>\n",
       "    </tr>\n",
       "    <tr>\n",
       "      <th>4</th>\n",
       "      <td>3</td>\n",
       "      <td>49</td>\n",
       "      <td>M</td>\n",
       "      <td>101</td>\n",
       "      <td>2</td>\n",
       "      <td>Traffic Accident</td>\n",
       "      <td>34.0108</td>\n",
       "      <td>-118.3182</td>\n",
       "      <td>Friday</td>\n",
       "      <td>August</td>\n",
       "      <td>2019</td>\n",
       "      <td>21</td>\n",
       "    </tr>\n",
       "  </tbody>\n",
       "</table>\n",
       "</div>"
      ],
      "text/plain": [
       "   Area ID  Victim Age Victim Sex  Premise Code  Severity           Factors   \n",
       "0        3          22          M           101         2  Traffic Accident  \\\n",
       "1        3          30          F           101         1         Road Rage   \n",
       "2        4          38          M           101         1         Road Rage   \n",
       "3        1          21          M           101         1  Traffic Accident   \n",
       "4        3          49          M           101         2  Traffic Accident   \n",
       "\n",
       "   Latitude  Longitude Day of Week     Month  Year  Hour  \n",
       "0   34.0255  -118.3002    Saturday    August  2019     4  \n",
       "1   34.0256  -118.3089      Friday    August  2019    23  \n",
       "2   34.0738  -118.2078      Sunday    August  2019     5  \n",
       "3   34.0492  -118.2391   Wednesday  November  2019     3  \n",
       "4   34.0108  -118.3182      Friday    August  2019    21  "
      ]
     },
     "execution_count": 169,
     "metadata": {},
     "output_type": "execute_result"
    }
   ],
   "source": [
    "df2.head()"
   ]
  },
  {
   "cell_type": "code",
   "execution_count": 170,
   "id": "ddf3c92b",
   "metadata": {
    "execution": {
     "iopub.execute_input": "2023-12-03T04:47:55.380796Z",
     "iopub.status.busy": "2023-12-03T04:47:55.380416Z",
     "iopub.status.idle": "2023-12-03T04:47:55.399394Z",
     "shell.execute_reply": "2023-12-03T04:47:55.397835Z",
     "shell.execute_reply.started": "2023-12-03T04:47:55.380766Z"
    }
   },
   "outputs": [
    {
     "name": "stdout",
     "output_type": "stream",
     "text": [
      "<class 'datetime.time'>\n"
     ]
    }
   ],
   "source": [
    "print(type(df['Time Occurred'][0]))"
   ]
  },
  {
   "cell_type": "code",
   "execution_count": 171,
   "id": "489bdb66",
   "metadata": {
    "execution": {
     "iopub.execute_input": "2023-12-03T04:48:04.022754Z",
     "iopub.status.busy": "2023-12-03T04:48:04.022400Z",
     "iopub.status.idle": "2023-12-03T04:48:04.094406Z",
     "shell.execute_reply": "2023-12-03T04:48:04.092130Z",
     "shell.execute_reply.started": "2023-12-03T04:48:04.022727Z"
    }
   },
   "outputs": [],
   "source": [
    "df2['Year'] = df2['Year'].astype('Int64')\n",
    "df2['Hour'] = df2['Hour'].astype('Int64')\n",
    "df2['Month'] = df2['Month'].astype('string')"
   ]
  },
  {
   "cell_type": "code",
   "execution_count": 172,
   "id": "a5d0cfe9",
   "metadata": {
    "execution": {
     "iopub.execute_input": "2023-12-03T04:48:06.537650Z",
     "iopub.status.busy": "2023-12-03T04:48:06.537248Z",
     "iopub.status.idle": "2023-12-03T04:48:06.642309Z",
     "shell.execute_reply": "2023-12-03T04:48:06.640215Z",
     "shell.execute_reply.started": "2023-12-03T04:48:06.537620Z"
    },
    "scrolled": true
   },
   "outputs": [
    {
     "name": "stdout",
     "output_type": "stream",
     "text": [
      "<class 'pandas.core.frame.DataFrame'>\n",
      "Index: 588143 entries, 0 to 599779\n",
      "Data columns (total 12 columns):\n",
      " #   Column        Non-Null Count   Dtype  \n",
      "---  ------        --------------   -----  \n",
      " 0   Area ID       588143 non-null  Int64  \n",
      " 1   Victim Age    588143 non-null  Int64  \n",
      " 2   Victim Sex    588143 non-null  string \n",
      " 3   Premise Code  588143 non-null  int64  \n",
      " 4   Severity      588143 non-null  Int64  \n",
      " 5   Factors       588143 non-null  string \n",
      " 6   Latitude      588143 non-null  Float64\n",
      " 7   Longitude     588143 non-null  Float64\n",
      " 8   Day of Week   588143 non-null  string \n",
      " 9   Month         588143 non-null  string \n",
      " 10  Year          588143 non-null  Int64  \n",
      " 11  Hour          588143 non-null  Int64  \n",
      "dtypes: Float64(2), Int64(5), int64(1), string(4)\n",
      "memory usage: 78.4 MB\n"
     ]
    }
   ],
   "source": [
    "df2.info()"
   ]
  },
  {
   "cell_type": "code",
   "execution_count": 173,
   "id": "ccd62214",
   "metadata": {},
   "outputs": [],
   "source": [
    "df2.to_csv('Los_Angeles_Model.csv', index=False)"
   ]
  },
  {
   "cell_type": "code",
   "execution_count": null,
   "id": "7e752efa",
   "metadata": {},
   "outputs": [],
   "source": []
  },
  {
   "cell_type": "code",
   "execution_count": 116,
   "id": "e8984335",
   "metadata": {
    "execution": {
     "iopub.execute_input": "2023-12-03T04:48:29.580917Z",
     "iopub.status.busy": "2023-12-03T04:48:29.580535Z",
     "iopub.status.idle": "2023-12-03T04:48:30.558505Z",
     "shell.execute_reply": "2023-12-03T04:48:30.557475Z",
     "shell.execute_reply.started": "2023-12-03T04:48:29.580884Z"
    }
   },
   "outputs": [],
   "source": [
    "from sklearn.model_selection import train_test_split\n",
    "from sklearn.preprocessing import OneHotEncoder, MinMaxScaler\n",
    "\n",
    "# Select features and target variable\n",
    "X = df2.drop(columns=['Severity'])\n",
    "y = df2['Severity']\n",
    "\n",
    "# One-hot encode categorical variables\n",
    "categorical_columns = ['Victim Sex', 'Factors', 'Day of Week', 'Month']\n",
    "encoder = OneHotEncoder(drop='first', sparse=False)\n",
    "X_encoded = pd.get_dummies(X, columns=categorical_columns, drop_first=True)\n",
    "\n",
    "# Min-Max scaling for numerical variables\n",
    "numerical_columns = ['Victim Age', 'Latitude', 'Longitude', 'Hour']\n",
    "scaler = MinMaxScaler()\n",
    "X_encoded[numerical_columns] = scaler.fit_transform(X_encoded[numerical_columns])\n",
    "\n",
    "# Train-test split\n",
    "X_train, X_test, y_train, y_test = train_test_split(X_encoded, y, test_size=0.2, random_state=42)\n",
    "\n",
    "# Now, you can proceed with model selection, training, and evaluation\n"
   ]
  },
  {
   "cell_type": "code",
   "execution_count": 117,
   "id": "04833450",
   "metadata": {
    "execution": {
     "iopub.execute_input": "2023-12-03T04:49:14.961695Z",
     "iopub.status.busy": "2023-12-03T04:49:14.961303Z",
     "iopub.status.idle": "2023-12-03T04:51:58.254736Z",
     "shell.execute_reply": "2023-12-03T04:51:58.253534Z",
     "shell.execute_reply.started": "2023-12-03T04:49:14.961665Z"
    }
   },
   "outputs": [
    {
     "name": "stdout",
     "output_type": "stream",
     "text": [
      "Accuracy: 0.7764\n",
      "\n",
      "Classification Report:\n",
      "              precision    recall  f1-score   support\n",
      "\n",
      "         1.0       0.82      0.86      0.84     72835\n",
      "         2.0       0.70      0.70      0.70     41395\n",
      "         3.0       0.37      0.02      0.04      3399\n",
      "\n",
      "    accuracy                           0.78    117629\n",
      "   macro avg       0.63      0.52      0.52    117629\n",
      "weighted avg       0.76      0.78      0.77    117629\n",
      "\n"
     ]
    }
   ],
   "source": [
    "from sklearn.ensemble import RandomForestClassifier\n",
    "from sklearn.metrics import classification_report, accuracy_score\n",
    "\n",
    "# Initialize the Random Forest Classifier\n",
    "rf_classifier = RandomForestClassifier(random_state=42)\n",
    "\n",
    "# Train the model\n",
    "rf_classifier.fit(X_train, y_train)\n",
    "\n",
    "# Make predictions on the test set\n",
    "y_pred = rf_classifier.predict(X_test)\n",
    "\n",
    "# Evaluate the model\n",
    "accuracy = accuracy_score(y_test, y_pred)\n",
    "classification_report_result = classification_report(y_test, y_pred)\n",
    "\n",
    "# Display the results\n",
    "print(f\"Accuracy: {accuracy:.4f}\")\n",
    "print(\"\\nClassification Report:\")\n",
    "print(classification_report_result)\n"
   ]
  },
  {
   "cell_type": "markdown",
   "id": "f4fbcb0b",
   "metadata": {},
   "source": [
    "brief interpretation of the results:\n",
    "\n",
    "Precision: The proportion of true positive predictions among all positive predictions. For example, for class 1.0, 82% of the predicted instances were correctly classified as class 1.0.\n",
    "\n",
    "Recall: The proportion of true positive predictions among all actual positive instances. For class 1.0, 86% of the actual instances were correctly classified as class 1.0.\n",
    "\n",
    "F1-score: The harmonic mean of precision and recall. It provides a balance between precision and recall. It's often used when there is an uneven class distribution.\n",
    "\n",
    "Support: The number of actual instances in each class.\n",
    "\n",
    "Macro Avg and Weighted Avg: These are averages of the precision, recall, and F1-score across all classes. Macro Avg treats all classes equally, while Weighted Avg takes into account the class imbalance."
   ]
  },
  {
   "cell_type": "code",
   "execution_count": null,
   "id": "a5e438db",
   "metadata": {},
   "outputs": [],
   "source": []
  },
  {
   "cell_type": "code",
   "execution_count": null,
   "id": "65e1cf36",
   "metadata": {},
   "outputs": [],
   "source": []
  },
  {
   "cell_type": "code",
   "execution_count": null,
   "id": "d2e29d19",
   "metadata": {},
   "outputs": [],
   "source": []
  },
  {
   "cell_type": "code",
   "execution_count": null,
   "id": "11f853eb",
   "metadata": {},
   "outputs": [],
   "source": []
  },
  {
   "cell_type": "code",
   "execution_count": null,
   "id": "dd9061b2",
   "metadata": {},
   "outputs": [],
   "source": []
  },
  {
   "cell_type": "code",
   "execution_count": null,
   "id": "b77c6742",
   "metadata": {},
   "outputs": [],
   "source": []
  },
  {
   "cell_type": "code",
   "execution_count": null,
   "id": "52a00741",
   "metadata": {},
   "outputs": [],
   "source": []
  }
 ],
 "metadata": {
  "kaggle": {
   "accelerator": "none",
   "dataSources": [
    {
     "datasetId": 4098012,
     "sourceId": 7107888,
     "sourceType": "datasetVersion"
    }
   ],
   "dockerImageVersionId": 30587,
   "isGpuEnabled": false,
   "isInternetEnabled": false,
   "language": "python",
   "sourceType": "notebook"
  },
  "kernelspec": {
   "display_name": "Python 3 (ipykernel)",
   "language": "python",
   "name": "python3"
  },
  "language_info": {
   "codemirror_mode": {
    "name": "ipython",
    "version": 3
   },
   "file_extension": ".py",
   "mimetype": "text/x-python",
   "name": "python",
   "nbconvert_exporter": "python",
   "pygments_lexer": "ipython3",
   "version": "3.11.0"
  }
 },
 "nbformat": 4,
 "nbformat_minor": 5
}
