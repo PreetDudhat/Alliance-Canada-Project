{
  "cells": [
    {
      "cell_type": "code",
      "execution_count": 18,
      "id": "c024cf15",
      "metadata": {
        "id": "c024cf15"
      },
      "outputs": [],
      "source": [
        "import pandas as pd\n",
        "import numpy as np\n",
        "import math\n",
        "import matplotlib.pyplot as plt\n",
        "%matplotlib inline\n",
        "import warnings\n",
        "warnings.filterwarnings('ignore')\n",
        "from geopy.distance import great_circle  # For calculating distances\n",
        "import geopandas as gpd\n",
        "from shapely import wkt\n",
        "from shapely.wkt import loads\n",
        "import seaborn as sns"
      ]
    },
    {
      "cell_type": "code",
      "execution_count": 19,
      "id": "f2c35f70",
      "metadata": {
        "colab": {
          "base_uri": "https://localhost:8080/",
          "height": 206
        },
        "id": "f2c35f70",
        "outputId": "e23f38f4-8859-42ab-c8e4-b844c76116fa"
      },
      "outputs": [
        {
          "output_type": "execute_result",
          "data": {
            "text/plain": [
              "   Area ID  Victim Age Victim Sex  Premise Code  Severity           Factors  \\\n",
              "0        3          22          M           101         2  Traffic Accident   \n",
              "1        3          30          F           101         1         Road Rage   \n",
              "2        4          38          M           101         1         Road Rage   \n",
              "3        1          21          M           101         1  Traffic Accident   \n",
              "4        3          49          M           101         2  Traffic Accident   \n",
              "\n",
              "   Latitude  Longitude Day of Week     Month  Year  Hour  \n",
              "0   34.0255  -118.3002    Saturday    August  2019     4  \n",
              "1   34.0256  -118.3089      Friday    August  2019    23  \n",
              "2   34.0738  -118.2078      Sunday    August  2019     5  \n",
              "3   34.0492  -118.2391   Wednesday  November  2019     3  \n",
              "4   34.0108  -118.3182      Friday    August  2019    21  "
            ],
            "text/html": [
              "\n",
              "  <div id=\"df-f2d09c82-be50-408c-a545-41547132c9ab\" class=\"colab-df-container\">\n",
              "    <div>\n",
              "<style scoped>\n",
              "    .dataframe tbody tr th:only-of-type {\n",
              "        vertical-align: middle;\n",
              "    }\n",
              "\n",
              "    .dataframe tbody tr th {\n",
              "        vertical-align: top;\n",
              "    }\n",
              "\n",
              "    .dataframe thead th {\n",
              "        text-align: right;\n",
              "    }\n",
              "</style>\n",
              "<table border=\"1\" class=\"dataframe\">\n",
              "  <thead>\n",
              "    <tr style=\"text-align: right;\">\n",
              "      <th></th>\n",
              "      <th>Area ID</th>\n",
              "      <th>Victim Age</th>\n",
              "      <th>Victim Sex</th>\n",
              "      <th>Premise Code</th>\n",
              "      <th>Severity</th>\n",
              "      <th>Factors</th>\n",
              "      <th>Latitude</th>\n",
              "      <th>Longitude</th>\n",
              "      <th>Day of Week</th>\n",
              "      <th>Month</th>\n",
              "      <th>Year</th>\n",
              "      <th>Hour</th>\n",
              "    </tr>\n",
              "  </thead>\n",
              "  <tbody>\n",
              "    <tr>\n",
              "      <th>0</th>\n",
              "      <td>3</td>\n",
              "      <td>22</td>\n",
              "      <td>M</td>\n",
              "      <td>101</td>\n",
              "      <td>2</td>\n",
              "      <td>Traffic Accident</td>\n",
              "      <td>34.0255</td>\n",
              "      <td>-118.3002</td>\n",
              "      <td>Saturday</td>\n",
              "      <td>August</td>\n",
              "      <td>2019</td>\n",
              "      <td>4</td>\n",
              "    </tr>\n",
              "    <tr>\n",
              "      <th>1</th>\n",
              "      <td>3</td>\n",
              "      <td>30</td>\n",
              "      <td>F</td>\n",
              "      <td>101</td>\n",
              "      <td>1</td>\n",
              "      <td>Road Rage</td>\n",
              "      <td>34.0256</td>\n",
              "      <td>-118.3089</td>\n",
              "      <td>Friday</td>\n",
              "      <td>August</td>\n",
              "      <td>2019</td>\n",
              "      <td>23</td>\n",
              "    </tr>\n",
              "    <tr>\n",
              "      <th>2</th>\n",
              "      <td>4</td>\n",
              "      <td>38</td>\n",
              "      <td>M</td>\n",
              "      <td>101</td>\n",
              "      <td>1</td>\n",
              "      <td>Road Rage</td>\n",
              "      <td>34.0738</td>\n",
              "      <td>-118.2078</td>\n",
              "      <td>Sunday</td>\n",
              "      <td>August</td>\n",
              "      <td>2019</td>\n",
              "      <td>5</td>\n",
              "    </tr>\n",
              "    <tr>\n",
              "      <th>3</th>\n",
              "      <td>1</td>\n",
              "      <td>21</td>\n",
              "      <td>M</td>\n",
              "      <td>101</td>\n",
              "      <td>1</td>\n",
              "      <td>Traffic Accident</td>\n",
              "      <td>34.0492</td>\n",
              "      <td>-118.2391</td>\n",
              "      <td>Wednesday</td>\n",
              "      <td>November</td>\n",
              "      <td>2019</td>\n",
              "      <td>3</td>\n",
              "    </tr>\n",
              "    <tr>\n",
              "      <th>4</th>\n",
              "      <td>3</td>\n",
              "      <td>49</td>\n",
              "      <td>M</td>\n",
              "      <td>101</td>\n",
              "      <td>2</td>\n",
              "      <td>Traffic Accident</td>\n",
              "      <td>34.0108</td>\n",
              "      <td>-118.3182</td>\n",
              "      <td>Friday</td>\n",
              "      <td>August</td>\n",
              "      <td>2019</td>\n",
              "      <td>21</td>\n",
              "    </tr>\n",
              "  </tbody>\n",
              "</table>\n",
              "</div>\n",
              "    <div class=\"colab-df-buttons\">\n",
              "\n",
              "  <div class=\"colab-df-container\">\n",
              "    <button class=\"colab-df-convert\" onclick=\"convertToInteractive('df-f2d09c82-be50-408c-a545-41547132c9ab')\"\n",
              "            title=\"Convert this dataframe to an interactive table.\"\n",
              "            style=\"display:none;\">\n",
              "\n",
              "  <svg xmlns=\"http://www.w3.org/2000/svg\" height=\"24px\" viewBox=\"0 -960 960 960\">\n",
              "    <path d=\"M120-120v-720h720v720H120Zm60-500h600v-160H180v160Zm220 220h160v-160H400v160Zm0 220h160v-160H400v160ZM180-400h160v-160H180v160Zm440 0h160v-160H620v160ZM180-180h160v-160H180v160Zm440 0h160v-160H620v160Z\"/>\n",
              "  </svg>\n",
              "    </button>\n",
              "\n",
              "  <style>\n",
              "    .colab-df-container {\n",
              "      display:flex;\n",
              "      gap: 12px;\n",
              "    }\n",
              "\n",
              "    .colab-df-convert {\n",
              "      background-color: #E8F0FE;\n",
              "      border: none;\n",
              "      border-radius: 50%;\n",
              "      cursor: pointer;\n",
              "      display: none;\n",
              "      fill: #1967D2;\n",
              "      height: 32px;\n",
              "      padding: 0 0 0 0;\n",
              "      width: 32px;\n",
              "    }\n",
              "\n",
              "    .colab-df-convert:hover {\n",
              "      background-color: #E2EBFA;\n",
              "      box-shadow: 0px 1px 2px rgba(60, 64, 67, 0.3), 0px 1px 3px 1px rgba(60, 64, 67, 0.15);\n",
              "      fill: #174EA6;\n",
              "    }\n",
              "\n",
              "    .colab-df-buttons div {\n",
              "      margin-bottom: 4px;\n",
              "    }\n",
              "\n",
              "    [theme=dark] .colab-df-convert {\n",
              "      background-color: #3B4455;\n",
              "      fill: #D2E3FC;\n",
              "    }\n",
              "\n",
              "    [theme=dark] .colab-df-convert:hover {\n",
              "      background-color: #434B5C;\n",
              "      box-shadow: 0px 1px 3px 1px rgba(0, 0, 0, 0.15);\n",
              "      filter: drop-shadow(0px 1px 2px rgba(0, 0, 0, 0.3));\n",
              "      fill: #FFFFFF;\n",
              "    }\n",
              "  </style>\n",
              "\n",
              "    <script>\n",
              "      const buttonEl =\n",
              "        document.querySelector('#df-f2d09c82-be50-408c-a545-41547132c9ab button.colab-df-convert');\n",
              "      buttonEl.style.display =\n",
              "        google.colab.kernel.accessAllowed ? 'block' : 'none';\n",
              "\n",
              "      async function convertToInteractive(key) {\n",
              "        const element = document.querySelector('#df-f2d09c82-be50-408c-a545-41547132c9ab');\n",
              "        const dataTable =\n",
              "          await google.colab.kernel.invokeFunction('convertToInteractive',\n",
              "                                                    [key], {});\n",
              "        if (!dataTable) return;\n",
              "\n",
              "        const docLinkHtml = 'Like what you see? Visit the ' +\n",
              "          '<a target=\"_blank\" href=https://colab.research.google.com/notebooks/data_table.ipynb>data table notebook</a>'\n",
              "          + ' to learn more about interactive tables.';\n",
              "        element.innerHTML = '';\n",
              "        dataTable['output_type'] = 'display_data';\n",
              "        await google.colab.output.renderOutput(dataTable, element);\n",
              "        const docLink = document.createElement('div');\n",
              "        docLink.innerHTML = docLinkHtml;\n",
              "        element.appendChild(docLink);\n",
              "      }\n",
              "    </script>\n",
              "  </div>\n",
              "\n",
              "\n",
              "<div id=\"df-6148b6bb-dfb7-43fe-9ab5-a045660b9fa1\">\n",
              "  <button class=\"colab-df-quickchart\" onclick=\"quickchart('df-6148b6bb-dfb7-43fe-9ab5-a045660b9fa1')\"\n",
              "            title=\"Suggest charts\"\n",
              "            style=\"display:none;\">\n",
              "\n",
              "<svg xmlns=\"http://www.w3.org/2000/svg\" height=\"24px\"viewBox=\"0 0 24 24\"\n",
              "     width=\"24px\">\n",
              "    <g>\n",
              "        <path d=\"M19 3H5c-1.1 0-2 .9-2 2v14c0 1.1.9 2 2 2h14c1.1 0 2-.9 2-2V5c0-1.1-.9-2-2-2zM9 17H7v-7h2v7zm4 0h-2V7h2v10zm4 0h-2v-4h2v4z\"/>\n",
              "    </g>\n",
              "</svg>\n",
              "  </button>\n",
              "\n",
              "<style>\n",
              "  .colab-df-quickchart {\n",
              "      --bg-color: #E8F0FE;\n",
              "      --fill-color: #1967D2;\n",
              "      --hover-bg-color: #E2EBFA;\n",
              "      --hover-fill-color: #174EA6;\n",
              "      --disabled-fill-color: #AAA;\n",
              "      --disabled-bg-color: #DDD;\n",
              "  }\n",
              "\n",
              "  [theme=dark] .colab-df-quickchart {\n",
              "      --bg-color: #3B4455;\n",
              "      --fill-color: #D2E3FC;\n",
              "      --hover-bg-color: #434B5C;\n",
              "      --hover-fill-color: #FFFFFF;\n",
              "      --disabled-bg-color: #3B4455;\n",
              "      --disabled-fill-color: #666;\n",
              "  }\n",
              "\n",
              "  .colab-df-quickchart {\n",
              "    background-color: var(--bg-color);\n",
              "    border: none;\n",
              "    border-radius: 50%;\n",
              "    cursor: pointer;\n",
              "    display: none;\n",
              "    fill: var(--fill-color);\n",
              "    height: 32px;\n",
              "    padding: 0;\n",
              "    width: 32px;\n",
              "  }\n",
              "\n",
              "  .colab-df-quickchart:hover {\n",
              "    background-color: var(--hover-bg-color);\n",
              "    box-shadow: 0 1px 2px rgba(60, 64, 67, 0.3), 0 1px 3px 1px rgba(60, 64, 67, 0.15);\n",
              "    fill: var(--button-hover-fill-color);\n",
              "  }\n",
              "\n",
              "  .colab-df-quickchart-complete:disabled,\n",
              "  .colab-df-quickchart-complete:disabled:hover {\n",
              "    background-color: var(--disabled-bg-color);\n",
              "    fill: var(--disabled-fill-color);\n",
              "    box-shadow: none;\n",
              "  }\n",
              "\n",
              "  .colab-df-spinner {\n",
              "    border: 2px solid var(--fill-color);\n",
              "    border-color: transparent;\n",
              "    border-bottom-color: var(--fill-color);\n",
              "    animation:\n",
              "      spin 1s steps(1) infinite;\n",
              "  }\n",
              "\n",
              "  @keyframes spin {\n",
              "    0% {\n",
              "      border-color: transparent;\n",
              "      border-bottom-color: var(--fill-color);\n",
              "      border-left-color: var(--fill-color);\n",
              "    }\n",
              "    20% {\n",
              "      border-color: transparent;\n",
              "      border-left-color: var(--fill-color);\n",
              "      border-top-color: var(--fill-color);\n",
              "    }\n",
              "    30% {\n",
              "      border-color: transparent;\n",
              "      border-left-color: var(--fill-color);\n",
              "      border-top-color: var(--fill-color);\n",
              "      border-right-color: var(--fill-color);\n",
              "    }\n",
              "    40% {\n",
              "      border-color: transparent;\n",
              "      border-right-color: var(--fill-color);\n",
              "      border-top-color: var(--fill-color);\n",
              "    }\n",
              "    60% {\n",
              "      border-color: transparent;\n",
              "      border-right-color: var(--fill-color);\n",
              "    }\n",
              "    80% {\n",
              "      border-color: transparent;\n",
              "      border-right-color: var(--fill-color);\n",
              "      border-bottom-color: var(--fill-color);\n",
              "    }\n",
              "    90% {\n",
              "      border-color: transparent;\n",
              "      border-bottom-color: var(--fill-color);\n",
              "    }\n",
              "  }\n",
              "</style>\n",
              "\n",
              "  <script>\n",
              "    async function quickchart(key) {\n",
              "      const quickchartButtonEl =\n",
              "        document.querySelector('#' + key + ' button');\n",
              "      quickchartButtonEl.disabled = true;  // To prevent multiple clicks.\n",
              "      quickchartButtonEl.classList.add('colab-df-spinner');\n",
              "      try {\n",
              "        const charts = await google.colab.kernel.invokeFunction(\n",
              "            'suggestCharts', [key], {});\n",
              "      } catch (error) {\n",
              "        console.error('Error during call to suggestCharts:', error);\n",
              "      }\n",
              "      quickchartButtonEl.classList.remove('colab-df-spinner');\n",
              "      quickchartButtonEl.classList.add('colab-df-quickchart-complete');\n",
              "    }\n",
              "    (() => {\n",
              "      let quickchartButtonEl =\n",
              "        document.querySelector('#df-6148b6bb-dfb7-43fe-9ab5-a045660b9fa1 button');\n",
              "      quickchartButtonEl.style.display =\n",
              "        google.colab.kernel.accessAllowed ? 'block' : 'none';\n",
              "    })();\n",
              "  </script>\n",
              "</div>\n",
              "\n",
              "    </div>\n",
              "  </div>\n"
            ]
          },
          "metadata": {},
          "execution_count": 19
        }
      ],
      "source": [
        "pd.set_option('display.max_columns', None)\n",
        "pd.set_option('display.max_rows', None)\n",
        "df = pd.read_csv(\"/content/Los_Angeles_Model.csv\")\n",
        "df.head()"
      ]
    },
    {
      "cell_type": "code",
      "execution_count": 20,
      "id": "42549feb",
      "metadata": {
        "colab": {
          "base_uri": "https://localhost:8080/"
        },
        "id": "42549feb",
        "outputId": "cc6e4438-0acc-46ab-f32c-96b313a74b62"
      },
      "outputs": [
        {
          "output_type": "stream",
          "name": "stdout",
          "text": [
            "<class 'pandas.core.frame.DataFrame'>\n",
            "RangeIndex: 588143 entries, 0 to 588142\n",
            "Data columns (total 12 columns):\n",
            " #   Column        Non-Null Count   Dtype  \n",
            "---  ------        --------------   -----  \n",
            " 0   Area ID       588143 non-null  Int64  \n",
            " 1   Victim Age    588143 non-null  Int64  \n",
            " 2   Victim Sex    588143 non-null  string \n",
            " 3   Premise Code  588143 non-null  Int64  \n",
            " 4   Severity      588143 non-null  Int64  \n",
            " 5   Factors       588143 non-null  string \n",
            " 6   Latitude      588143 non-null  Float64\n",
            " 7   Longitude     588143 non-null  Float64\n",
            " 8   Day of Week   588143 non-null  string \n",
            " 9   Month         588143 non-null  string \n",
            " 10  Year          588143 non-null  Int64  \n",
            " 11  Hour          588143 non-null  Int64  \n",
            "dtypes: Float64(2), Int64(6), string(4)\n",
            "memory usage: 58.3 MB\n"
          ]
        }
      ],
      "source": [
        "df = df.convert_dtypes()\n",
        "\n",
        "df.info()"
      ]
    },
    {
      "cell_type": "code",
      "source": [
        "df['Severity'].value_counts()"
      ],
      "metadata": {
        "colab": {
          "base_uri": "https://localhost:8080/"
        },
        "id": "WgNz3dHJMlhC",
        "outputId": "be7ce241-bfcd-4901-b392-28d4a5fba182"
      },
      "id": "WgNz3dHJMlhC",
      "execution_count": 21,
      "outputs": [
        {
          "output_type": "execute_result",
          "data": {
            "text/plain": [
              "1    365126\n",
              "2    206064\n",
              "3     16953\n",
              "Name: Severity, dtype: Int64"
            ]
          },
          "metadata": {},
          "execution_count": 21
        }
      ]
    },
    {
      "cell_type": "code",
      "source": [
        "severity_mapping = {\n",
        "    1:0,\n",
        "    2:1,\n",
        "    3:1\n",
        "}\n",
        "\n",
        "df['Severity'] = df['Severity'].map(severity_mapping)"
      ],
      "metadata": {
        "id": "e34BX0Q2MtVI"
      },
      "id": "e34BX0Q2MtVI",
      "execution_count": 22,
      "outputs": []
    },
    {
      "cell_type": "code",
      "execution_count": 23,
      "id": "b8a69ae6",
      "metadata": {
        "colab": {
          "base_uri": "https://localhost:8080/",
          "height": 966
        },
        "id": "b8a69ae6",
        "outputId": "86526048-e39e-47a0-9767-17883c2905a8"
      },
      "outputs": [
        {
          "output_type": "display_data",
          "data": {
            "text/plain": [
              "<Figure size 1600x1200 with 2 Axes>"
            ],
            "image/png": "[encoded data removed]"
          },
          "metadata": {}
        }
      ],
      "source": [
        "# Select columns for encoding\n",
        "columns_for_encoding = ['Area ID', 'Victim Age', 'Victim Sex', 'Premise Code', 'Severity', 'Factors', 'Year']\n",
        "\n",
        "# One-hot encode selected columns\n",
        "df_encoded = pd.get_dummies(df[columns_for_encoding],\n",
        "                             columns=['Victim Sex', 'Factors'],\n",
        "                             drop_first=True)  # Use drop_first to avoid multicollinearity\n",
        "\n",
        "# Compute the correlation matrix\n",
        "correlation_matrix = df_encoded.corr()\n",
        "\n",
        "# Plot the heatmap\n",
        "plt.figure(figsize=(16, 12))\n",
        "sns.heatmap(correlation_matrix, annot=True, cmap='coolwarm', fmt=\".2f\", linewidths=.5)\n",
        "plt.title('Correlation Heatmap')\n",
        "plt.show()\n"
      ]
    },
    {
      "cell_type": "code",
      "execution_count": 24,
      "id": "49163bf5",
      "metadata": {
        "id": "49163bf5"
      },
      "outputs": [],
      "source": [
        "from sklearn.model_selection import train_test_split\n",
        "from sklearn.preprocessing import OneHotEncoder, MinMaxScaler\n",
        "\n",
        "# Select features and target variable\n",
        "X = df.drop(columns=['Severity'])\n",
        "y = df['Severity']\n",
        "\n",
        "# One-hot encode categorical variables\n",
        "categorical_columns = ['Victim Sex', 'Factors', 'Day of Week', 'Month']\n",
        "encoder = OneHotEncoder(drop='first', sparse=False)\n",
        "X_encoded = pd.get_dummies(X, columns=categorical_columns, drop_first=True)\n",
        "\n",
        "# Min-Max scaling for numerical variables\n",
        "numerical_columns = ['Victim Age', 'Latitude', 'Longitude', 'Hour']\n",
        "scaler = MinMaxScaler()\n",
        "X_encoded[numerical_columns] = scaler.fit_transform(X_encoded[numerical_columns])\n",
        "\n",
        "# Train-test split\n",
        "X_train, X_test, y_train, y_test = train_test_split(X_encoded, y, test_size=0.2, random_state=42)"
      ]
    },
    {
      "cell_type": "markdown",
      "source": [
        "## **Random Forest Classifier:**"
      ],
      "metadata": {
        "id": "pd-l76K07TKA"
      },
      "id": "pd-l76K07TKA"
    },
    {
      "cell_type": "code",
      "execution_count": 25,
      "id": "125ef9e4",
      "metadata": {
        "colab": {
          "base_uri": "https://localhost:8080/"
        },
        "id": "125ef9e4",
        "outputId": "bb52b086-95a5-4594-dba0-c484fbe0f6ef"
      },
      "outputs": [
        {
          "output_type": "stream",
          "name": "stdout",
          "text": [
            "Accuracy: 0.7946\n",
            "\n",
            "Classification Report:\n",
            "              precision    recall  f1-score   support\n",
            "\n",
            "           0       0.83      0.84      0.84     72835\n",
            "           1       0.74      0.71      0.73     44794\n",
            "\n",
            "    accuracy                           0.79    117629\n",
            "   macro avg       0.78      0.78      0.78    117629\n",
            "weighted avg       0.79      0.79      0.79    117629\n",
            "\n"
          ]
        }
      ],
      "source": [
        "from sklearn.ensemble import RandomForestClassifier\n",
        "from sklearn.metrics import classification_report, accuracy_score, confusion_matrix\n",
        "\n",
        "# Initialize the Random Forest Classifier\n",
        "rf_classifier = RandomForestClassifier(random_state=42)\n",
        "\n",
        "# Train the model\n",
        "rf_classifier.fit(X_train, y_train)\n",
        "\n",
        "# Make predictions on the test set\n",
        "y_pred = rf_classifier.predict(X_test)\n",
        "\n",
        "# Evaluate the model\n",
        "accuracy = accuracy_score(y_test, y_pred)\n",
        "classification_report_result = classification_report(y_test, y_pred)\n",
        "\n",
        "# Display the results\n",
        "print(f\"Accuracy: {accuracy:.4f}\")\n",
        "print(\"\\nClassification Report:\")\n",
        "print(classification_report_result)\n"
      ]
    },
    {
      "cell_type": "code",
      "source": [
        "# Display confusion matrix\n",
        "print(\"Confusion Matrix for Random Forest:\")\n",
        "print(confusion_matrix(y_test, y_pred))"
      ],
      "metadata": {
        "colab": {
          "base_uri": "https://localhost:8080/"
        },
        "id": "86o-hSPJwuXF",
        "outputId": "4fe81aea-292c-4125-9e71-4a7e36d3763e"
      },
      "id": "86o-hSPJwuXF",
      "execution_count": 55,
      "outputs": [
        {
          "output_type": "stream",
          "name": "stdout",
          "text": [
            "Confusion Matrix for Random Forest:\n",
            "[[61446 11389]\n",
            " [12776 32018]]\n"
          ]
        }
      ]
    },
    {
      "cell_type": "markdown",
      "source": [
        "## **K-Nearest Neighbors (KNN) Classifier:**"
      ],
      "metadata": {
        "id": "i3w__8ll7EWB"
      },
      "id": "i3w__8ll7EWB"
    },
    {
      "cell_type": "code",
      "source": [
        "from sklearn.neighbors import KNeighborsClassifier\n",
        "from sklearn.metrics import accuracy_score, classification_report\n",
        "\n",
        "# Build a K-Nearest Neighbors model\n",
        "knn_model = KNeighborsClassifier()\n",
        "\n",
        "# Train the model\n",
        "knn_model.fit(X_train, y_train)\n",
        "\n",
        "# Predictions on the test set\n",
        "knn_y_pred = knn_model.predict(X_test)\n",
        "\n",
        "# Evaluate the model\n",
        "knn_accuracy = accuracy_score(y_test, knn_y_pred)\n",
        "print(f\"KNN Accuracy: {knn_accuracy:.2f}\")\n",
        "\n",
        "# Additional evaluation metrics\n",
        "print(\"KNN Classification Report:\")\n",
        "print(classification_report(y_test, knn_y_pred))\n"
      ],
      "metadata": {
        "trusted": true,
        "id": "2sG43hDI7EWB",
        "colab": {
          "base_uri": "https://localhost:8080/"
        },
        "outputId": "d7d86610-e46f-4473-e68e-2b19a0cd7379"
      },
      "execution_count": 31,
      "outputs": [
        {
          "output_type": "stream",
          "name": "stdout",
          "text": [
            "KNN Accuracy: 0.76\n",
            "KNN Classification Report:\n",
            "              precision    recall  f1-score   support\n",
            "\n",
            "           0       0.80      0.81      0.80     72835\n",
            "           1       0.69      0.66      0.67     44794\n",
            "\n",
            "    accuracy                           0.76    117629\n",
            "   macro avg       0.74      0.74      0.74    117629\n",
            "weighted avg       0.75      0.76      0.75    117629\n",
            "\n"
          ]
        }
      ],
      "id": "2sG43hDI7EWB"
    },
    {
      "cell_type": "code",
      "source": [
        "# Display confusion matrix\n",
        "print(\"Confusion Matrix for KNN:\")\n",
        "print(confusion_matrix(y_test, knn_y_pred))"
      ],
      "metadata": {
        "colab": {
          "base_uri": "https://localhost:8080/"
        },
        "id": "Xy6TdWwnw0Es",
        "outputId": "0acc5d3a-10d5-406f-ed88-c581294705a4"
      },
      "id": "Xy6TdWwnw0Es",
      "execution_count": 54,
      "outputs": [
        {
          "output_type": "stream",
          "name": "stdout",
          "text": [
            "Confusion Matrix for KNN:\n",
            "[[59273 13562]\n",
            " [15237 29557]]\n"
          ]
        }
      ]
    },
    {
      "cell_type": "markdown",
      "source": [
        "## **Logistic Regression:**"
      ],
      "metadata": {
        "id": "aOB83Ojz7EWC"
      },
      "id": "aOB83Ojz7EWC"
    },
    {
      "cell_type": "code",
      "source": [
        "from sklearn.linear_model import LogisticRegression\n",
        "from sklearn.metrics import accuracy_score, classification_report\n",
        "\n",
        "# Build a Logistic Regression model\n",
        "logreg_model = LogisticRegression(random_state=42)\n",
        "\n",
        "# Train the model\n",
        "logreg_model.fit(X_train, y_train)\n",
        "\n",
        "# Predictions on the test set\n",
        "logreg_y_pred = logreg_model.predict(X_test)\n",
        "\n",
        "# Evaluate the model\n",
        "logreg_accuracy = accuracy_score(y_test, logreg_y_pred)\n",
        "print(f\"Logistic Regression Accuracy: {logreg_accuracy:.2f}\")\n",
        "\n",
        "# Additional evaluation metrics\n",
        "print(\"Logistic Regression Classification Report:\")\n",
        "print(classification_report(y_test, logreg_y_pred))\n"
      ],
      "metadata": {
        "trusted": true,
        "id": "eJH4sgkc7EWC",
        "colab": {
          "base_uri": "https://localhost:8080/"
        },
        "outputId": "5f8c7b0a-4dae-4a8c-ac58-29780494de3e"
      },
      "execution_count": 26,
      "outputs": [
        {
          "output_type": "stream",
          "name": "stdout",
          "text": [
            "Logistic Regression Accuracy: 0.68\n",
            "Logistic Regression Classification Report:\n",
            "              precision    recall  f1-score   support\n",
            "\n",
            "           0       0.73      0.77      0.75     72835\n",
            "           1       0.59      0.55      0.57     44794\n",
            "\n",
            "    accuracy                           0.68    117629\n",
            "   macro avg       0.66      0.66      0.66    117629\n",
            "weighted avg       0.68      0.68      0.68    117629\n",
            "\n"
          ]
        }
      ],
      "id": "eJH4sgkc7EWC"
    },
    {
      "cell_type": "code",
      "source": [
        "# Display confusion matrix\n",
        "print(\"Confusion Matrix for Logistic Regression:\")\n",
        "print(confusion_matrix(y_test, logreg_y_pred))"
      ],
      "metadata": {
        "colab": {
          "base_uri": "https://localhost:8080/"
        },
        "id": "qwXdVbAJw92K",
        "outputId": "dd69d087-55d8-4785-be3e-455bf93a6a09"
      },
      "id": "qwXdVbAJw92K",
      "execution_count": 56,
      "outputs": [
        {
          "output_type": "stream",
          "name": "stdout",
          "text": [
            "Confusion Matrix for Logistic Regression:\n",
            "[[55982 16853]\n",
            " [20321 24473]]\n"
          ]
        }
      ]
    },
    {
      "cell_type": "markdown",
      "source": [
        "## **Gradient Boosting Classifier:**"
      ],
      "metadata": {
        "id": "TL-5YFSh7EWC"
      },
      "id": "TL-5YFSh7EWC"
    },
    {
      "cell_type": "code",
      "source": [
        "from sklearn.ensemble import GradientBoostingClassifier\n",
        "from sklearn.metrics import accuracy_score, classification_report\n",
        "\n",
        "# Build a Gradient Boosting Classifier model\n",
        "gb_model = GradientBoostingClassifier(random_state=42)\n",
        "\n",
        "# Train the model\n",
        "gb_model.fit(X_train, y_train)\n",
        "\n",
        "# Predictions on the test set\n",
        "gb_y_pred = gb_model.predict(X_test)\n",
        "\n",
        "# Evaluate the model\n",
        "gb_accuracy = accuracy_score(y_test, gb_y_pred)\n",
        "print(f\"Gradient Boosting Accuracy: {gb_accuracy:.2f}\")\n",
        "\n",
        "# Additional evaluation metrics\n",
        "print(\"Gradient Boosting Classification Report:\")\n",
        "print(classification_report(y_test, gb_y_pred))\n"
      ],
      "metadata": {
        "trusted": true,
        "id": "JmUGHzWj7EWC",
        "colab": {
          "base_uri": "https://localhost:8080/"
        },
        "outputId": "fcd4f334-bf74-45f5-be93-8fd57015d48e"
      },
      "execution_count": 27,
      "outputs": [
        {
          "output_type": "stream",
          "name": "stdout",
          "text": [
            "Gradient Boosting Accuracy: 0.79\n",
            "Gradient Boosting Classification Report:\n",
            "              precision    recall  f1-score   support\n",
            "\n",
            "           0       0.83      0.83      0.83     72835\n",
            "           1       0.72      0.72      0.72     44794\n",
            "\n",
            "    accuracy                           0.79    117629\n",
            "   macro avg       0.78      0.78      0.78    117629\n",
            "weighted avg       0.79      0.79      0.79    117629\n",
            "\n"
          ]
        }
      ],
      "id": "JmUGHzWj7EWC"
    },
    {
      "cell_type": "code",
      "source": [
        "# Display confusion matrix\n",
        "print(\"Confusion Matrix for Gradient Boosting:\")\n",
        "print(confusion_matrix(y_test, gb_y_pred))"
      ],
      "metadata": {
        "colab": {
          "base_uri": "https://localhost:8080/"
        },
        "id": "HsTdS1_JxHiq",
        "outputId": "53ddfd47-fde6-4fe7-f1dc-dd8b3c28316c"
      },
      "id": "HsTdS1_JxHiq",
      "execution_count": 57,
      "outputs": [
        {
          "output_type": "stream",
          "name": "stdout",
          "text": [
            "Confusion Matrix for Gradient Boosting:\n",
            "[[60482 12353]\n",
            " [12458 32336]]\n"
          ]
        }
      ]
    },
    {
      "cell_type": "markdown",
      "source": [
        "## **XGBoost Classifier:**"
      ],
      "metadata": {
        "id": "iZvVO1TL7EWC"
      },
      "id": "iZvVO1TL7EWC"
    },
    {
      "cell_type": "code",
      "source": [
        "from xgboost import XGBClassifier\n",
        "from sklearn.metrics import accuracy_score, classification_report\n",
        "\n",
        "# Build an XGBoost Classifier model\n",
        "xgb_model = XGBClassifier(random_state=42)\n",
        "\n",
        "# Train the model\n",
        "xgb_model.fit(X_train, y_train)\n",
        "\n",
        "# Predictions on the test set\n",
        "xgb_y_pred = xgb_model.predict(X_test)\n",
        "\n",
        "# Evaluate the model\n",
        "xgb_accuracy = accuracy_score(y_test, xgb_y_pred)\n",
        "print(f\"XGBoost Accuracy: {xgb_accuracy:.2f}\")\n",
        "\n",
        "# Additional evaluation metrics\n",
        "print(\"XGBoost Classification Report:\")\n",
        "print(classification_report(y_test, xgb_y_pred))\n"
      ],
      "metadata": {
        "id": "WPJ993GS7EWC",
        "colab": {
          "base_uri": "https://localhost:8080/"
        },
        "outputId": "c9074caf-3cf1-4646-bb00-2f6c2ee1ef53"
      },
      "execution_count": 28,
      "outputs": [
        {
          "output_type": "stream",
          "name": "stdout",
          "text": [
            "XGBoost Accuracy: 0.80\n",
            "XGBoost Classification Report:\n",
            "              precision    recall  f1-score   support\n",
            "\n",
            "           0       0.84      0.84      0.84     72835\n",
            "           1       0.74      0.73      0.74     44794\n",
            "\n",
            "    accuracy                           0.80    117629\n",
            "   macro avg       0.79      0.79      0.79    117629\n",
            "weighted avg       0.80      0.80      0.80    117629\n",
            "\n"
          ]
        }
      ],
      "id": "WPJ993GS7EWC"
    },
    {
      "cell_type": "code",
      "source": [
        "# Display confusion matrix\n",
        "print(\"Confusion Matrix for Gradient Boosting:\")\n",
        "print(confusion_matrix(y_test, xgb_y_pred))"
      ],
      "metadata": {
        "colab": {
          "base_uri": "https://localhost:8080/"
        },
        "id": "FkVQ9FkYxMGB",
        "outputId": "52b5895d-ba12-4cc0-e9a1-14639575172c"
      },
      "id": "FkVQ9FkYxMGB",
      "execution_count": 58,
      "outputs": [
        {
          "output_type": "stream",
          "name": "stdout",
          "text": [
            "Confusion Matrix for Gradient Boosting:\n",
            "[[61186 11649]\n",
            " [11995 32799]]\n"
          ]
        }
      ]
    },
    {
      "cell_type": "markdown",
      "source": [
        "## **ADABoost Classifier:**"
      ],
      "metadata": {
        "id": "vYuqnwsE7EWC"
      },
      "id": "vYuqnwsE7EWC"
    },
    {
      "cell_type": "code",
      "source": [
        "from sklearn.ensemble import AdaBoostClassifier\n",
        "from sklearn.metrics import accuracy_score, classification_report\n",
        "\n",
        "# Build an AdaBoost Classifier model\n",
        "ada_model = AdaBoostClassifier(random_state=42)\n",
        "\n",
        "# Train the model\n",
        "ada_model.fit(X_train, y_train)\n",
        "\n",
        "# Predictions on the test set\n",
        "ada_y_pred = ada_model.predict(X_test)\n",
        "\n",
        "# Evaluate the model\n",
        "ada_accuracy = accuracy_score(y_test, ada_y_pred)\n",
        "print(f\"AdaBoost Accuracy: {ada_accuracy:.2f}\")\n",
        "\n",
        "# Additional evaluation metrics\n",
        "print(\"AdaBoost Classification Report:\")\n",
        "print(classification_report(y_test, ada_y_pred))\n"
      ],
      "metadata": {
        "trusted": true,
        "id": "r_DXqXm07EWC",
        "colab": {
          "base_uri": "https://localhost:8080/"
        },
        "outputId": "3251e847-1b35-404b-c72c-b3a9f9b29493"
      },
      "execution_count": 29,
      "outputs": [
        {
          "output_type": "stream",
          "name": "stdout",
          "text": [
            "AdaBoost Accuracy: 0.78\n",
            "AdaBoost Classification Report:\n",
            "              precision    recall  f1-score   support\n",
            "\n",
            "           0       0.83      0.81      0.82     72835\n",
            "           1       0.71      0.73      0.72     44794\n",
            "\n",
            "    accuracy                           0.78    117629\n",
            "   macro avg       0.77      0.77      0.77    117629\n",
            "weighted avg       0.78      0.78      0.78    117629\n",
            "\n"
          ]
        }
      ],
      "id": "r_DXqXm07EWC"
    },
    {
      "cell_type": "code",
      "source": [],
      "metadata": {
        "id": "WD1wedlQxQZg"
      },
      "id": "WD1wedlQxQZg",
      "execution_count": null,
      "outputs": []
    },
    {
      "cell_type": "markdown",
      "source": [
        "## **Ensemble Model (Voting Classifier):**"
      ],
      "metadata": {
        "id": "fcroKXHL7EWC"
      },
      "id": "fcroKXHL7EWC"
    },
    {
      "cell_type": "code",
      "source": [
        "from sklearn.ensemble import VotingClassifier\n",
        "from sklearn.metrics import accuracy_score, classification_report\n",
        "\n",
        "# Create individual models\n",
        "rf_classifier = RandomForestClassifier(random_state=42)\n",
        "knn_model = KNeighborsClassifier()\n",
        "logreg_model = LogisticRegression(random_state=42)\n",
        "gb_model = GradientBoostingClassifier(random_state=42)\n",
        "xgb_model = XGBClassifier(random_state=42)\n",
        "ada_model = AdaBoostClassifier(random_state=42)\n",
        "\n",
        "# Create an ensemble model using VotingClassifier\n",
        "ensemble_model = VotingClassifier(estimators=[\n",
        "    ('rf',rf_classifier),\n",
        "    ('knn', knn_model),\n",
        "    ('logreg', logreg_model),\n",
        "    ('gb', gb_model),\n",
        "    ('xgb', xgb_model),\n",
        "    ('ada', ada_model)\n",
        "], voting='hard')\n",
        "\n",
        "# Train the ensemble model\n",
        "ensemble_model.fit(X_train, y_train)\n",
        "\n",
        "# Predictions on the test set\n",
        "ensemble_y_pred = ensemble_model.predict(X_test)\n",
        "\n",
        "# Evaluate the ensemble model\n",
        "ensemble_accuracy = accuracy_score(y_test, ensemble_y_pred)\n",
        "print(f\"Ensemble Model Accuracy: {ensemble_accuracy:.2f}\")\n",
        "\n",
        "# Additional evaluation metrics\n",
        "print(\"Ensemble Model Classification Report:\")\n",
        "print(classification_report(y_test, ensemble_y_pred))\n"
      ],
      "metadata": {
        "trusted": true,
        "id": "wqdZNmrd7EWD",
        "colab": {
          "base_uri": "https://localhost:8080/"
        },
        "outputId": "c99b0899-13b5-42a9-a70d-362d70c2650b"
      },
      "execution_count": 45,
      "outputs": [
        {
          "output_type": "stream",
          "name": "stdout",
          "text": [
            "Ensemble Model Accuracy: 0.79\n",
            "Ensemble Model Classification Report:\n",
            "              precision    recall  f1-score   support\n",
            "\n",
            "           0       0.83      0.85      0.84     72835\n",
            "           1       0.74      0.71      0.72     44794\n",
            "\n",
            "    accuracy                           0.79    117629\n",
            "   macro avg       0.78      0.78      0.78    117629\n",
            "weighted avg       0.79      0.79      0.79    117629\n",
            "\n"
          ]
        }
      ],
      "id": "wqdZNmrd7EWD"
    },
    {
      "cell_type": "code",
      "source": [
        "# Display confusion matrix\n",
        "print(\"Confusion Matrix for Voting Classifier:\")\n",
        "print(confusion_matrix(y_test, ensemble_y_pred))"
      ],
      "metadata": {
        "colab": {
          "base_uri": "https://localhost:8080/"
        },
        "id": "XaoHDAbTxS0z",
        "outputId": "d59acb73-471d-454d-8bac-0ff3fd4a66af"
      },
      "id": "XaoHDAbTxS0z",
      "execution_count": 59,
      "outputs": [
        {
          "output_type": "stream",
          "name": "stdout",
          "text": [
            "Confusion Matrix for Voting Classifier:\n",
            "[[61569 11266]\n",
            " [13016 31778]]\n"
          ]
        }
      ]
    },
    {
      "cell_type": "markdown",
      "source": [
        "**Parameter Tuning**"
      ],
      "metadata": {
        "id": "Z3GX31TAyJ62"
      },
      "id": "Z3GX31TAyJ62"
    },
    {
      "cell_type": "code",
      "source": [
        "from sklearn.model_selection import GridSearchCV\n",
        "\n",
        "# Define the parameter grid to search\n",
        "param_grid = {\n",
        "    'n_estimators': [100, 200],\n",
        "    'max_depth': [10, 20],\n",
        "    'min_samples_split': [5, 10],\n",
        "    # Add other hyperparameters you want to tune\n",
        "}\n",
        "\n",
        "# Create a RandomForestClassifier\n",
        "model = RandomForestClassifier(random_state=42)\n",
        "\n",
        "# Create GridSearchCV\n",
        "grid_search = GridSearchCV(model, param_grid, cv=5, scoring='accuracy')\n",
        "\n",
        "# Fit the model to the training data\n",
        "grid_search.fit(X_train, y_train)\n",
        "\n",
        "# Print the best hyperparameters\n",
        "print(\"Best Hyperparameters:\", grid_search.best_params_)\n",
        "\n",
        "# Get the best model\n",
        "best_model = grid_search.best_estimator_\n",
        "\n",
        "# Predictions on the test set using the best model\n",
        "y_pred_tuned = best_model.predict(X_test)\n",
        "\n",
        "# Evaluate the tuned model\n",
        "accuracy_tuned = accuracy_score(y_test, y_pred_tuned)\n",
        "print(f\"Tuned Model Accuracy: {accuracy_tuned:.2f}\")\n",
        "\n",
        "# Additional evaluation metrics for the tuned model\n",
        "print(\"Classification Report (Tuned Model):\")\n",
        "print(classification_report(y_test, y_pred_tuned))\n"
      ],
      "metadata": {
        "colab": {
          "base_uri": "https://localhost:8080/"
        },
        "id": "WgE2c-dbSviV",
        "outputId": "503c490e-813d-4d53-ade0-f366b17ab3ab"
      },
      "id": "WgE2c-dbSviV",
      "execution_count": 47,
      "outputs": [
        {
          "output_type": "stream",
          "name": "stdout",
          "text": [
            "Best Hyperparameters: {'max_depth': 20, 'min_samples_split': 5, 'n_estimators': 200}\n",
            "Tuned Model Accuracy: 0.80\n",
            "Classification Report (Tuned Model):\n",
            "              precision    recall  f1-score   support\n",
            "\n",
            "           0       0.84      0.83      0.84     72835\n",
            "           1       0.73      0.74      0.73     44794\n",
            "\n",
            "    accuracy                           0.80    117629\n",
            "   macro avg       0.78      0.79      0.78    117629\n",
            "weighted avg       0.80      0.80      0.80    117629\n",
            "\n"
          ]
        }
      ]
    },
    {
      "cell_type": "code",
      "source": [
        "\n",
        "# Display confusion matrix\n",
        "print(\"Confusion Matrix for Hypertuned Random Forest:\")\n",
        "print(confusion_matrix(y_test, y_pred_tuned))"
      ],
      "metadata": {
        "colab": {
          "base_uri": "https://localhost:8080/"
        },
        "id": "XM70jfZzwCI6",
        "outputId": "ca5f9c18-d356-4579-d2ad-1b2261c06ebc"
      },
      "id": "XM70jfZzwCI6",
      "execution_count": 60,
      "outputs": [
        {
          "output_type": "stream",
          "name": "stdout",
          "text": [
            "Confusion Matrix for Hypertuned Random Forest:\n",
            "[[60643 12192]\n",
            " [11754 33040]]\n"
          ]
        }
      ]
    }
  ],
  "metadata": {
    "kernelspec": {
      "display_name": "Python 3 (ipykernel)",
      "language": "python",
      "name": "python3"
    },
    "language_info": {
      "codemirror_mode": {
        "name": "ipython",
        "version": 3
      },
      "file_extension": ".py",
      "mimetype": "text/x-python",
      "name": "python",
      "nbconvert_exporter": "python",
      "pygments_lexer": "ipython3",
      "version": "3.11.0"
    },
    "colab": {
      "provenance": [],
      "collapsed_sections": [
        "pjKNaX9P7EWB"
      ]
    }
  },
  "nbformat": 4,
  "nbformat_minor": 5
}