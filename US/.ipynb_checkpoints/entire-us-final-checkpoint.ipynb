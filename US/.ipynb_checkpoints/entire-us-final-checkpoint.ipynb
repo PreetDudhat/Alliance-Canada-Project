{
 "cells": [
  {
   "cell_type": "code",
   "execution_count": 1,
   "metadata": {
    "_cell_guid": "b1076dfc-b9ad-4769-8c92-a6c4dae69d19",
    "_uuid": "8f2839f25d086af736a60e9eeb907d3b93b6e0e5",
    "execution": {
     "iopub.execute_input": "2023-12-04T23:25:26.116471Z",
     "iopub.status.busy": "2023-12-04T23:25:26.116153Z",
     "iopub.status.idle": "2023-12-04T23:25:31.005731Z",
     "shell.execute_reply": "2023-12-04T23:25:31.004603Z",
     "shell.execute_reply.started": "2023-12-04T23:25:26.116445Z"
    }
   },
   "outputs": [
    {
     "ename": "ModuleNotFoundError",
     "evalue": "No module named 'descartes'",
     "output_type": "error",
     "traceback": [
      "\u001b[1;31m---------------------------------------------------------------------------\u001b[0m",
      "\u001b[1;31mModuleNotFoundError\u001b[0m                       Traceback (most recent call last)",
      "Cell \u001b[1;32mIn [1], line 21\u001b[0m\n\u001b[0;32m     19\u001b[0m \u001b[38;5;28;01mimport\u001b[39;00m \u001b[38;5;21;01mmatplotlib\u001b[39;00m\u001b[38;5;21;01m.\u001b[39;00m\u001b[38;5;21;01mpatheffects\u001b[39;00m \u001b[38;5;28;01mas\u001b[39;00m \u001b[38;5;21;01mPathEffects\u001b[39;00m\n\u001b[0;32m     20\u001b[0m \u001b[38;5;28;01mimport\u001b[39;00m \u001b[38;5;21;01mgc\u001b[39;00m\n\u001b[1;32m---> 21\u001b[0m \u001b[38;5;28;01mimport\u001b[39;00m \u001b[38;5;21;01mdescartes\u001b[39;00m\n\u001b[0;32m     22\u001b[0m \u001b[38;5;28;01mimport\u001b[39;00m \u001b[38;5;21;01mgeopandas\u001b[39;00m \u001b[38;5;28;01mas\u001b[39;00m \u001b[38;5;21;01mgpd\u001b[39;00m\n\u001b[0;32m     23\u001b[0m \u001b[38;5;28;01mfrom\u001b[39;00m \u001b[38;5;21;01mLevenshtein\u001b[39;00m \u001b[38;5;28;01mimport\u001b[39;00m distance\n",
      "\u001b[1;31mModuleNotFoundError\u001b[0m: No module named 'descartes'"
     ]
    }
   ],
   "source": [
    "# This Python 3 environment comes with many helpful analytics libraries installed\n",
    "# It is defined by the kaggle/python Docker image: https://github.com/kaggle/docker-python\n",
    "# For example, here's several helpful packages to load\n",
    "\n",
    "# import all necesary libraries\n",
    "import numpy as np\n",
    "import pandas as pd\n",
    "import matplotlib.pyplot as plt\n",
    "import matplotlib.ticker as ticker\n",
    "import matplotlib.patches as mpatches\n",
    "%matplotlib inline\n",
    "import seaborn as sns\n",
    "import calendar\n",
    "import plotly as pt\n",
    "from plotly import graph_objs as go\n",
    "import plotly.express as px\n",
    "import plotly.figure_factory as ff\n",
    "from pylab import *\n",
    "import matplotlib.patheffects as PathEffects\n",
    "import gc\n",
    "import descartes\n",
    "import geopandas as gpd\n",
    "from Levenshtein import distance\n",
    "from itertools import product\n",
    "from fuzzywuzzy import fuzz\n",
    "from fuzzywuzzy import process\n",
    "from scipy.spatial.distance import pdist, squareform\n",
    "from shapely.geometry import Point, Polygon\n",
    "\n",
    "import geoplot\n",
    "from geopy.geocoders import Nominatim\n",
    "\n",
    "import warnings\n",
    "warnings.filterwarnings('ignore')\n",
    "\n",
    "\n",
    "plt.rcParams['font.family'] = \"Microsoft JhengHei UI Light\"\n",
    "plt.rcParams['font.serif'] = [\"Microsoft JhengHei UI Light\"]\n",
    "# Input data files are available in the read-only \"../input/\" directory\n",
    "# For example, running this (by clicking run or pressing Shift+Enter) will list all files under the input directory\n",
    "\n",
    "import os\n",
    "for dirname, _, filenames in os.walk('/kaggle/input'):\n",
    "    for filename in filenames:\n",
    "        print(os.path.join(dirname, filename))\n",
    "\n",
    "# You can write up to 20GB to the current directory (/kaggle/working/) that gets preserved as output when you create a version using \"Save & Run All\" \n",
    "# You can also write temporary files to /kaggle/temp/, but they won't be saved outside of the current session"
   ]
  },
  {
   "cell_type": "code",
   "execution_count": null,
   "metadata": {
    "execution": {
     "iopub.execute_input": "2023-12-04T23:25:31.008693Z",
     "iopub.status.busy": "2023-12-04T23:25:31.007552Z",
     "iopub.status.idle": "2023-12-04T23:26:47.922156Z",
     "shell.execute_reply": "2023-12-04T23:26:47.921307Z",
     "shell.execute_reply.started": "2023-12-04T23:25:31.008661Z"
    }
   },
   "outputs": [],
   "source": [
    "pd.set_option('display.max_columns', None)\n",
    "pd.set_option('display.max_rows', None)\n",
    "df = pd.read_csv('/kaggle/input/us-accidents/US_Accidents_March23.csv')\n",
    "df.head()"
   ]
  },
  {
   "cell_type": "code",
   "execution_count": null,
   "metadata": {
    "execution": {
     "iopub.execute_input": "2023-12-04T23:26:47.923761Z",
     "iopub.status.busy": "2023-12-04T23:26:47.923301Z",
     "iopub.status.idle": "2023-12-04T23:26:47.945233Z",
     "shell.execute_reply": "2023-12-04T23:26:47.944389Z",
     "shell.execute_reply.started": "2023-12-04T23:26:47.923737Z"
    }
   },
   "outputs": [],
   "source": [
    "df.info()"
   ]
  },
  {
   "cell_type": "code",
   "execution_count": null,
   "metadata": {
    "execution": {
     "iopub.execute_input": "2023-12-04T23:26:47.947547Z",
     "iopub.status.busy": "2023-12-04T23:26:47.947313Z",
     "iopub.status.idle": "2023-12-04T23:26:50.781150Z",
     "shell.execute_reply": "2023-12-04T23:26:50.780508Z",
     "shell.execute_reply.started": "2023-12-04T23:26:47.947527Z"
    }
   },
   "outputs": [],
   "source": [
    "df.describe()\n"
   ]
  },
  {
   "cell_type": "code",
   "execution_count": null,
   "metadata": {
    "execution": {
     "iopub.execute_input": "2023-12-04T23:26:50.782591Z",
     "iopub.status.busy": "2023-12-04T23:26:50.782336Z",
     "iopub.status.idle": "2023-12-04T23:26:50.817372Z",
     "shell.execute_reply": "2023-12-04T23:26:50.816493Z",
     "shell.execute_reply.started": "2023-12-04T23:26:50.782569Z"
    }
   },
   "outputs": [],
   "source": [
    "#check to see if missing values are in same rows\n",
    "df[np.logical_xor(df.End_Lat.isna(),df.End_Lng.isna()) == True]"
   ]
  },
  {
   "cell_type": "code",
   "execution_count": null,
   "metadata": {
    "execution": {
     "iopub.execute_input": "2023-12-04T23:26:50.818730Z",
     "iopub.status.busy": "2023-12-04T23:26:50.818492Z",
     "iopub.status.idle": "2023-12-04T23:26:56.629437Z",
     "shell.execute_reply": "2023-12-04T23:26:56.628541Z",
     "shell.execute_reply.started": "2023-12-04T23:26:50.818709Z"
    }
   },
   "outputs": [],
   "source": [
    "percentage_of_missing_values=df.isna().sum()/len(df)*100\n",
    "percentage_of_missing_values[percentage_of_missing_values!=0].plot(kind=\"bar\")\n"
   ]
  },
  {
   "cell_type": "code",
   "execution_count": null,
   "metadata": {
    "execution": {
     "iopub.execute_input": "2023-12-04T23:26:56.632420Z",
     "iopub.status.busy": "2023-12-04T23:26:56.630979Z",
     "iopub.status.idle": "2023-12-04T23:27:02.262247Z",
     "shell.execute_reply": "2023-12-04T23:27:02.261187Z",
     "shell.execute_reply.started": "2023-12-04T23:26:56.632352Z"
    }
   },
   "outputs": [],
   "source": [
    "# Create a DataFrame with the column names and null counts\n",
    "null_counts = pd.DataFrame({\n",
    "    'Column': df.columns,\n",
    "    'Null Count': [df[column].isnull().sum() for column in df.columns]\n",
    "})\n",
    "\n",
    "# Calculate the percentage of missing values\n",
    "null_counts['Percentage Missing'] = null_counts['Null Count'] / df.shape[0] * 100\n",
    "null_counts['Percentage Missing'] = null_counts['Percentage Missing'].round(2)\n",
    "print(null_counts)"
   ]
  },
  {
   "cell_type": "code",
   "execution_count": null,
   "metadata": {
    "execution": {
     "iopub.execute_input": "2023-12-04T23:27:02.263847Z",
     "iopub.status.busy": "2023-12-04T23:27:02.263577Z",
     "iopub.status.idle": "2023-12-04T23:27:03.787832Z",
     "shell.execute_reply": "2023-12-04T23:27:03.787039Z",
     "shell.execute_reply.started": "2023-12-04T23:27:02.263824Z"
    }
   },
   "outputs": [],
   "source": [
    "df.drop(columns=[\"End_Lat\", \"End_Lng\", \"ID\"], inplace=True)"
   ]
  },
  {
   "cell_type": "code",
   "execution_count": null,
   "metadata": {
    "execution": {
     "iopub.execute_input": "2023-12-04T23:27:03.789331Z",
     "iopub.status.busy": "2023-12-04T23:27:03.789097Z",
     "iopub.status.idle": "2023-12-04T23:27:04.062910Z",
     "shell.execute_reply": "2023-12-04T23:27:04.062006Z",
     "shell.execute_reply.started": "2023-12-04T23:27:03.789309Z"
    }
   },
   "outputs": [],
   "source": [
    "#create dataframe of variables collected at airport for airport_code with null values (i.e., no airport information)\n",
    "weather_info = df[df.Airport_Code.isna()][['Airport_Code','Weather_Timestamp', 'Temperature(F)', 'Wind_Chill(F)',\n",
    "       'Humidity(%)', 'Pressure(in)','Visibility(mi)', 'Wind_Direction',\n",
    "       'Wind_Speed(mph)', 'Precipitation(in)', 'Weather_Condition']]"
   ]
  },
  {
   "cell_type": "code",
   "execution_count": null,
   "metadata": {
    "execution": {
     "iopub.execute_input": "2023-12-04T23:27:04.066639Z",
     "iopub.status.busy": "2023-12-04T23:27:04.066300Z",
     "iopub.status.idle": "2023-12-04T23:27:04.084820Z",
     "shell.execute_reply": "2023-12-04T23:27:04.084215Z",
     "shell.execute_reply.started": "2023-12-04T23:27:04.066612Z"
    }
   },
   "outputs": [],
   "source": [
    "#all records that are missing an airport_code are also missing weather information\n",
    "print('Percentage null when Airport_Code is null:')\n",
    "for weather in weather_info.columns:\n",
    "    print('{}: {}%'.format(weather, (weather_info[weather].isna().count()/weather_info.Airport_Code.isna().count())*100))"
   ]
  },
  {
   "cell_type": "code",
   "execution_count": null,
   "metadata": {
    "execution": {
     "iopub.execute_input": "2023-12-04T23:27:04.085921Z",
     "iopub.status.busy": "2023-12-04T23:27:04.085613Z",
     "iopub.status.idle": "2023-12-04T23:27:04.225471Z",
     "shell.execute_reply": "2023-12-04T23:27:04.224463Z",
     "shell.execute_reply.started": "2023-12-04T23:27:04.085892Z"
    }
   },
   "outputs": [],
   "source": [
    "del weather_info\n",
    "gc.collect()"
   ]
  },
  {
   "cell_type": "code",
   "execution_count": null,
   "metadata": {
    "execution": {
     "iopub.execute_input": "2023-12-04T23:29:50.018454Z",
     "iopub.status.busy": "2023-12-04T23:29:50.018081Z",
     "iopub.status.idle": "2023-12-04T23:29:54.224480Z",
     "shell.execute_reply": "2023-12-04T23:29:54.223468Z",
     "shell.execute_reply.started": "2023-12-04T23:29:50.018427Z"
    }
   },
   "outputs": [],
   "source": [
    "# Create a DataFrame with the column names and null counts\n",
    "null_counts = pd.DataFrame({\n",
    "    'Column': df.columns,\n",
    "    'Null Count': [df[column].isnull().sum() for column in df.columns]\n",
    "})\n",
    "\n",
    "# Calculate the percentage of missing values\n",
    "null_counts['Percentage Missing'] = null_counts['Null Count'] / df.shape[0] * 100\n",
    "null_counts['Percentage Missing'] = null_counts['Percentage Missing'].round(2)\n",
    "print(null_counts)"
   ]
  },
  {
   "cell_type": "code",
   "execution_count": null,
   "metadata": {
    "execution": {
     "iopub.execute_input": "2023-12-04T23:27:12.858474Z",
     "iopub.status.busy": "2023-12-04T23:27:12.858159Z",
     "iopub.status.idle": "2023-12-04T23:27:12.892373Z",
     "shell.execute_reply": "2023-12-04T23:27:12.891453Z",
     "shell.execute_reply.started": "2023-12-04T23:27:12.858443Z"
    }
   },
   "outputs": [],
   "source": [
    "df.head()"
   ]
  },
  {
   "cell_type": "code",
   "execution_count": null,
   "metadata": {
    "execution": {
     "iopub.execute_input": "2023-12-04T23:28:13.069428Z",
     "iopub.status.busy": "2023-12-04T23:28:13.069106Z",
     "iopub.status.idle": "2023-12-04T23:28:13.145575Z",
     "shell.execute_reply": "2023-12-04T23:28:13.144453Z",
     "shell.execute_reply.started": "2023-12-04T23:28:13.069396Z"
    }
   },
   "outputs": [],
   "source": [
    "df['Severity'].value_counts()"
   ]
  },
  {
   "cell_type": "code",
   "execution_count": null,
   "metadata": {
    "execution": {
     "iopub.execute_input": "2023-12-04T23:29:41.909572Z",
     "iopub.status.busy": "2023-12-04T23:29:41.909187Z",
     "iopub.status.idle": "2023-12-04T23:29:45.326530Z",
     "shell.execute_reply": "2023-12-04T23:29:45.325653Z",
     "shell.execute_reply.started": "2023-12-04T23:29:41.909545Z"
    }
   },
   "outputs": [],
   "source": [
    "df.dropna(subset=['Street', 'City', 'Zipcode'], inplace=True)"
   ]
  },
  {
   "cell_type": "code",
   "execution_count": null,
   "metadata": {},
   "outputs": [],
   "source": []
  },
  {
   "cell_type": "code",
   "execution_count": null,
   "metadata": {
    "execution": {
     "iopub.execute_input": "2023-12-04T23:31:10.406155Z",
     "iopub.status.busy": "2023-12-04T23:31:10.405828Z",
     "iopub.status.idle": "2023-12-04T23:31:10.568015Z",
     "shell.execute_reply": "2023-12-04T23:31:10.566992Z",
     "shell.execute_reply.started": "2023-12-04T23:31:10.406132Z"
    }
   },
   "outputs": [],
   "source": [
    "#fill in missing time zones\n",
    "from timezonefinder import TimezoneFinder\n",
    "obj = TimezoneFinder()\n",
    "for i in tznullindex:\n",
    "    timezone = obj.timezone_at(lng=tznulllatlng.loc[i,'Start_Lng'], lat=tznulllatlng.loc[i,'Start_Lat'])\n",
    "    df.loc[i,'Timezone'] = timezone"
   ]
  },
  {
   "cell_type": "code",
   "execution_count": null,
   "metadata": {},
   "outputs": [],
   "source": [
    "#copy values from start lat/lng to end lat/lng for null values\n",
    "latnull = np.array(accident_data[np.isnan(accident_data.End_Lat)].index)\n",
    "df.loc[latnull,'End_Lat'] = df.loc[latnull,'Start_Lat']\n",
    "lngnull = np.array(df[np.isnan(df.End_Lng)].index)\n",
    "df.loc[lngnull,'End_Lng'] = df.loc[lngnull,'Start_Lng']\n",
    "\n",
    "#replace missing wind chill data with temperature\n",
    "wcnull = np.array(df[np.isnan(df['Wind_Chill(F)'])].index)\n",
    "df.loc[wcnull,'Wind_Chill(F)'] = df.loc[i,'Temperature(F)']\n",
    "\n",
    "#replace missing temperature data with wind chill\n",
    "tempnull = np.array(df[np.isnan(df['Temperature(F)'])].index)\n",
    "df.loc[wcnull,'Temperature(F)'] = df.loc[i,'Wind_Chill(F)']\n",
    "\n",
    "#replace missing data for when the weather was collected based on end time of the accident\n",
    "weathertimenull = np.array(df[np.isnan(df.datetime_weathertime_parsed)].index)\n",
    "accident_data.loc[weathertimenull,'datetime_weathertime_parsed'] = df.loc[weathertimenull,'datetime_end_parsed']"
   ]
  },
  {
   "cell_type": "code",
   "execution_count": null,
   "metadata": {},
   "outputs": [],
   "source": []
  },
  {
   "cell_type": "code",
   "execution_count": null,
   "metadata": {},
   "outputs": [],
   "source": []
  },
  {
   "cell_type": "code",
   "execution_count": null,
   "metadata": {},
   "outputs": [],
   "source": []
  },
  {
   "cell_type": "code",
   "execution_count": null,
   "metadata": {},
   "outputs": [],
   "source": []
  },
  {
   "cell_type": "code",
   "execution_count": null,
   "metadata": {},
   "outputs": [],
   "source": []
  },
  {
   "cell_type": "code",
   "execution_count": null,
   "metadata": {},
   "outputs": [],
   "source": []
  },
  {
   "cell_type": "code",
   "execution_count": null,
   "metadata": {},
   "outputs": [],
   "source": []
  },
  {
   "cell_type": "code",
   "execution_count": null,
   "metadata": {},
   "outputs": [],
   "source": []
  },
  {
   "cell_type": "code",
   "execution_count": null,
   "metadata": {
    "execution": {
     "iopub.status.busy": "2023-12-04T18:02:40.166492Z",
     "iopub.status.idle": "2023-12-04T18:02:40.167483Z",
     "shell.execute_reply": "2023-12-04T18:02:40.167194Z",
     "shell.execute_reply.started": "2023-12-04T18:02:40.167162Z"
    }
   },
   "outputs": [],
   "source": [
    "# create a dataframe of city and their corresponding accident cases\n",
    "city_df = pd.DataFrame(df['City'].value_counts()).reset_index().rename(columns={'index':'City', 'City':'Cases'})"
   ]
  },
  {
   "cell_type": "code",
   "execution_count": null,
   "metadata": {
    "execution": {
     "iopub.status.busy": "2023-12-04T18:02:40.169239Z",
     "iopub.status.idle": "2023-12-04T18:02:40.169825Z",
     "shell.execute_reply": "2023-12-04T18:02:40.169539Z",
     "shell.execute_reply.started": "2023-12-04T18:02:40.169513Z"
    }
   },
   "outputs": [],
   "source": [
    "top_10_cities = pd.DataFrame(city_df.head(10))"
   ]
  },
  {
   "cell_type": "code",
   "execution_count": null,
   "metadata": {
    "execution": {
     "iopub.status.busy": "2023-12-04T18:02:40.172298Z",
     "iopub.status.idle": "2023-12-04T18:02:40.173580Z",
     "shell.execute_reply": "2023-12-04T18:02:40.173314Z",
     "shell.execute_reply.started": "2023-12-04T18:02:40.173287Z"
    }
   },
   "outputs": [],
   "source": [
    "fig, ax = plt.subplots(figsize = (12,7), dpi = 80)\n",
    "\n",
    "cmap = cm.get_cmap('rainbow', 10)   \n",
    "clrs = [matplotlib.colors.rgb2hex(cmap(i)) for i in range(cmap.N)]\n",
    "\n",
    "ax=sns.barplot(y=top_10_cities['Cases'], x=top_10_cities['City'], palette='rainbow')\n",
    "\n",
    "total = sum(city_df['Cases'])\n",
    "for i in ax.patches:\n",
    "    ax.text(i.get_x()+.03, i.get_height()-2500, \\\n",
    "            str(round((i.get_height()/total)*100, 2))+'%', fontsize=15, weight='bold',\n",
    "                color='white')\n",
    "\n",
    "plt.title('\\nTop 10 Cities in US with most no. of \\nRoad Accident Cases (2016-2020)\\n', size=20, color='grey')\n",
    "\n",
    "plt.rcParams['font.family'] = \"Microsoft JhengHei UI Light\"\n",
    "plt.rcParams['font.serif'] = [\"Microsoft JhengHei UI Light\"]\n",
    "\n",
    "plt.ylim(1000, 50000)\n",
    "plt.xticks(rotation=10, fontsize=12)\n",
    "plt.yticks(fontsize=12)\n",
    "\n",
    "ax.set_xlabel('\\nCities\\n', fontsize=15, color='grey')\n",
    "ax.set_ylabel('\\nAccident Cases\\n', fontsize=15, color='grey')\n",
    "\n",
    "for i in ['bottom', 'left']:\n",
    "    ax.spines[i].set_color('white')\n",
    "    ax.spines[i].set_linewidth(1.5)\n",
    "    \n",
    "right_side = ax.spines[\"right\"]\n",
    "right_side.set_visible(False)\n",
    "top_side = ax.spines[\"top\"]\n",
    "top_side.set_visible(False)\n",
    "\n",
    "ax.set_axisbelow(True)\n",
    "ax.grid(color='#b2d6c7', linewidth=1, axis='y', alpha=.3)\n",
    "MA = mpatches.Patch(color=clrs[0], label='City with Maximum\\n no. of Road Accidents')\n",
    "ax.legend(handles=[MA], prop={'size': 10.5}, loc='best', borderpad=1, \n",
    "          labelcolor=clrs[0], edgecolor='white');\n",
    "plt.show()"
   ]
  },
  {
   "cell_type": "code",
   "execution_count": null,
   "metadata": {},
   "outputs": [],
   "source": []
  }
 ],
 "metadata": {
  "kaggle": {
   "accelerator": "none",
   "dataSources": [
    {
     "datasetId": 199387,
     "sourceId": 5793796,
     "sourceType": "datasetVersion"
    }
   ],
   "dockerImageVersionId": 30587,
   "isGpuEnabled": false,
   "isInternetEnabled": false,
   "language": "python",
   "sourceType": "notebook"
  },
  "kernelspec": {
   "display_name": "Python 3 (ipykernel)",
   "language": "python",
   "name": "python3"
  },
  "language_info": {
   "codemirror_mode": {
    "name": "ipython",
    "version": 3
   },
   "file_extension": ".py",
   "mimetype": "text/x-python",
   "name": "python",
   "nbconvert_exporter": "python",
   "pygments_lexer": "ipython3",
   "version": "3.11.0"
  }
 },
 "nbformat": 4,
 "nbformat_minor": 4
}
